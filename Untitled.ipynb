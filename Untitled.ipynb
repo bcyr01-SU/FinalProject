{
 "cells": [
  {
   "cell_type": "code",
   "execution_count": 11,
   "metadata": {},
   "outputs": [
    {
     "name": "stdout",
     "output_type": "stream",
     "text": [
      "Collecting mlbgame\n",
      "  Downloading https://files.pythonhosted.org/packages/e8/f2/0ee0ea8de91acda582766bb86ebb358a84670006390509e30df2dd1b90bf/mlbgame-2.5.0.tar.gz\n",
      "Requirement already satisfied: lxml in c:\\users\\bency\\appdata\\local\\programs\\python\\python36\\lib\\site-packages (from mlbgame) (4.3.3)\n",
      "Building wheels for collected packages: mlbgame\n",
      "  Building wheel for mlbgame (setup.py): started\n",
      "  Building wheel for mlbgame (setup.py): finished with status 'done'\n",
      "  Stored in directory: C:\\Users\\bency\\AppData\\Local\\pip\\Cache\\wheels\\61\\42\\df\\ed3391d4f690b4b034d18744820172b2c5d5809d55f03b2409\n",
      "Successfully built mlbgame\n",
      "Installing collected packages: mlbgame\n",
      "Successfully installed mlbgame-2.5.0\n",
      "Note: you may need to restart the kernel to use updated packages.\n"
     ]
    }
   ],
   "source": [
    "pip install mlbgame"
   ]
  },
  {
   "cell_type": "code",
   "execution_count": null,
   "metadata": {},
   "outputs": [],
   "source": []
  },
  {
   "cell_type": "code",
   "execution_count": 1,
   "metadata": {},
   "outputs": [
    {
     "name": "stdout",
     "output_type": "stream",
     "text": [
      "Winning pitcher: Yordano Ventura (Royals) - Losing Pitcher: C.J. Wilson (Angels)\n"
     ]
    }
   ],
   "source": []
  },
  {
   "cell_type": "code",
   "execution_count": null,
   "metadata": {},
   "outputs": [],
   "source": []
  },
  {
   "cell_type": "code",
   "execution_count": null,
   "metadata": {},
   "outputs": [],
   "source": []
  }
 ],
 "metadata": {
  "kernelspec": {
   "display_name": "Python 3",
   "language": "python",
   "name": "python3"
  },
  "language_info": {
   "codemirror_mode": {
    "name": "ipython",
    "version": 3
   },
   "file_extension": ".py",
   "mimetype": "text/x-python",
   "name": "python",
   "nbconvert_exporter": "python",
   "pygments_lexer": "ipython3",
   "version": "3.6.6"
  }
 },
 "nbformat": 4,
 "nbformat_minor": 2
}
