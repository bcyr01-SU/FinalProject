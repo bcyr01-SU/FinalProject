{
 "cells": [
  {
   "cell_type": "code",
   "execution_count": 1,
   "metadata": {},
   "outputs": [],
   "source": [
    "import pandas as pd\n",
    "import folium\n",
    "import requests\n",
    "import numpy as np\n",
    "\n",
    "batting = pd.read_csv('Batting.csv')\n",
    "player_info_df = pd.read_csv('People.csv')\n",
    "batting_career = []\n",
    "listofplayers = []\n",
    "players_already_entered = []\n",
    "appearances = pd.read_csv(\"Appearances.csv\")\n",
    "player_id = player_info_df['playerID']\n",
    "states = {\n",
    "        'AK': 'Alaska',\n",
    "        'AL': 'Alabama',\n",
    "        'AR': 'Arkansas',\n",
    "        'AS': 'American Samoa',\n",
    "        'AZ': 'Arizona',\n",
    "        'CA': 'California',\n",
    "        'CO': 'Colorado',\n",
    "        'CT': 'Connecticut',\n",
    "        'DC': 'District of Columbia',\n",
    "        'DE': 'Delaware',\n",
    "        'FL': 'Florida',\n",
    "        'GA': 'Georgia',\n",
    "        'GU': 'Guam',\n",
    "        'HI': 'Hawaii',\n",
    "        'IA': 'Iowa',\n",
    "        'ID': 'Idaho',\n",
    "        'IL': 'Illinois',\n",
    "        'IN': 'Indiana',\n",
    "        'KS': 'Kansas',\n",
    "        'KY': 'Kentucky',\n",
    "        'LA': 'Louisiana',\n",
    "        'MA': 'Massachusetts',\n",
    "        'MD': 'Maryland',\n",
    "        'ME': 'Maine',\n",
    "        'MI': 'Michigan',\n",
    "        'MN': 'Minnesota',\n",
    "        'MO': 'Missouri',\n",
    "        'MP': 'Northern Mariana Islands',\n",
    "        'MS': 'Mississippi',\n",
    "        'MT': 'Montana',\n",
    "        'NA': 'National',\n",
    "        'NC': 'North Carolina',\n",
    "        'ND': 'North Dakota',\n",
    "        'NE': 'Nebraska',\n",
    "        'NH': 'New Hampshire',\n",
    "        'NJ': 'New Jersey',\n",
    "        'NM': 'New Mexico',\n",
    "        'NV': 'Nevada',\n",
    "        'NY': 'New York',\n",
    "        'OH': 'Ohio',\n",
    "        'OK': 'Oklahoma',\n",
    "        'OR': 'Oregon',\n",
    "        'PA': 'Pennsylvania',\n",
    "        'PR': 'Puerto Rico',\n",
    "        'RI': 'Rhode Island',\n",
    "        'SC': 'South Carolina',\n",
    "        'SD': 'South Dakota',\n",
    "        'TN': 'Tennessee',\n",
    "        'TX': 'Texas',\n",
    "        'UT': 'Utah',\n",
    "        'VA': 'Virginia',\n",
    "        'VI': 'Virgin Islands',\n",
    "        'VT': 'Vermont',\n",
    "        'WA': 'Washington',\n",
    "        'WI': 'Wisconsin',\n",
    "        'WV': 'West Virginia',\n",
    "        'WY': 'Wyoming'\n",
    "}\n"
   ]
  },
  {
   "cell_type": "code",
   "execution_count": 2,
   "metadata": {},
   "outputs": [],
   "source": []
  },
  {
   "cell_type": "code",
   "execution_count": 2,
   "metadata": {},
   "outputs": [],
   "source": [
    "def career_batting():\n",
    "    for player_season in batting.to_records():\n",
    "        if player_season['playerID'] in players_already_entered:\n",
    "            for player in batting_career:\n",
    "                if player_season['playerID'] == player['playerID']:\n",
    "                    player['G'] += player_season['G']\n",
    "                    player['AB'] += player_season['AB']\n",
    "                    player['R'] += player_season['R']\n",
    "                    player['H'] += player_season['H']\n",
    "                    player['HR'] += player_season['HR']\n",
    "                    player['RBI'] += player_season['RBI']\n",
    "                    player['SB'] += player_season['SB']\n",
    "                    break\n",
    "        else:\n",
    "                batting_career_stats = {\"playerID\" : player_season['playerID'], 'G' : player_season['G'], 'AB' : player_season['AB'], 'R' : player_season['R'], 'H' : player_season['H'] , 'HR' : player_season['HR'], 'RBI' : player_season['RBI'] , 'SB' : player_season['SB']}\n",
    "                batting_career.append(batting_career_stats)\n",
    "                players_already_entered.append(player_season['playerID'])\n",
    "    return batting_career"
   ]
  },
  {
   "cell_type": "code",
   "execution_count": null,
   "metadata": {},
   "outputs": [],
   "source": [
    "batting_career = career_batting()"
   ]
  },
  {
   "cell_type": "code",
   "execution_count": 7,
   "metadata": {},
   "outputs": [],
   "source": [
    "batting_career = pd.DataFrame(batting_career)"
   ]
  },
  {
   "cell_type": "code",
   "execution_count": 8,
   "metadata": {},
   "outputs": [
    {
     "data": {
      "text/html": [
       "<div>\n",
       "<style scoped>\n",
       "    .dataframe tbody tr th:only-of-type {\n",
       "        vertical-align: middle;\n",
       "    }\n",
       "\n",
       "    .dataframe tbody tr th {\n",
       "        vertical-align: top;\n",
       "    }\n",
       "\n",
       "    .dataframe thead th {\n",
       "        text-align: right;\n",
       "    }\n",
       "</style>\n",
       "<table border=\"1\" class=\"dataframe\">\n",
       "  <thead>\n",
       "    <tr style=\"text-align: right;\">\n",
       "      <th></th>\n",
       "    </tr>\n",
       "  </thead>\n",
       "  <tbody>\n",
       "  </tbody>\n",
       "</table>\n",
       "</div>"
      ],
      "text/plain": [
       "Empty DataFrame\n",
       "Columns: []\n",
       "Index: []"
      ]
     },
     "execution_count": 8,
     "metadata": {},
     "output_type": "execute_result"
    }
   ],
   "source": [
    "batting_career"
   ]
  },
  {
   "cell_type": "code",
   "execution_count": null,
   "metadata": {},
   "outputs": [],
   "source": [
    "stat = 'H'\n",
    "player_list = batting_career.sort_values(by=[stat], ascending=False)\n",
    "desired_players = player_search('ss')\n",
    "number_of_players = 10\n",
    "pls = player_sort_by_stat(player_list, desired_players, stat, number_of_players, batting_career)"
   ]
  },
  {
   "cell_type": "code",
   "execution_count": null,
   "metadata": {},
   "outputs": [],
   "source": [
    "def player_sort_by_stat(player_list, desired_players, stat, number_of_players,batting_career):\n",
    "    i = 0\n",
    "    best_for_position = []\n",
    "    for player in player_list.to_records():\n",
    "        if player['playerID'] in desired_players and i < number_of_players:\n",
    "            player_stats = {'playerID' : player['playerID'], stat : player[stat]}\n",
    "            best_for_position.append(player_stats)\n",
    "            i += 1\n",
    "        elif i >= number_of_players:\n",
    "            break\n",
    "    return best_for_position"
   ]
  },
  {
   "cell_type": "code",
   "execution_count": null,
   "metadata": {},
   "outputs": [],
   "source": [
    "def player_search(position):\n",
    "    desired_players = []\n",
    "    position = position.lower()\n",
    "    position_key = \"G_\" + position\n",
    "    for player in appearances.to_records():\n",
    "        player_position = max_position(player)\n",
    "        if position_key == player_position:\n",
    "            name = player['playerID']\n",
    "            desired_players.append(name)\n",
    "    return desired_players    "
   ]
  },
  {
   "cell_type": "code",
   "execution_count": null,
   "metadata": {},
   "outputs": [],
   "source": [
    "def max_position(player):\n",
    "    max_position = -1\n",
    "    if int(player['G_p']) > max_position:\n",
    "        max_position = int(player['G_p'])\n",
    "        position = \"G_p\"\n",
    "    if int(player['G_c']) > max_position:\n",
    "        max_position = int(player['G_c'])\n",
    "        position = \"G_c\"\n",
    "    if int(player['G_1b']) > max_position:\n",
    "        max_position = int(player['G_1b'])\n",
    "        position = \"G_1b\"\n",
    "    if int(player['G_2b']) > max_position:\n",
    "        max_position = int(player['G_2b'])\n",
    "        position = \"G_2b\"\n",
    "    if int(player['G_ss']) > max_position:\n",
    "        max_position = int(player['G_ss'])\n",
    "        position = \"G_ss\"\n",
    "    if int(player['G_3b']) > max_position:\n",
    "        max_position = int(player['G_3b'])\n",
    "        position = \"G_3b\"\n",
    "    if int(player['G_lf']) > max_position:\n",
    "        max_position = int(player['G_lf'])\n",
    "        position = \"G_lf\"\n",
    "    if int(player['G_cf']) > max_position:\n",
    "        max_position = int(player['G_cf'])\n",
    "        position = \"G_cf\"\n",
    "    if int(player['G_rf']) > max_position:\n",
    "        max_position = int(player['G_rf'])\n",
    "        position = \"G_rf\"\n",
    "    return position "
   ]
  },
  {
   "cell_type": "code",
   "execution_count": null,
   "metadata": {},
   "outputs": [],
   "source": [
    "def player_map():\n",
    "    map = folium.Map(location=(39.8283, -98.5795), zoom_start=4.21)\n",
    "    for index,playerid in enumerate(player_id):\n",
    "        if playerid in listofplayers:\n",
    "            birthCity = player_info_df['birthCity'][index]\n",
    "            birthState = player_info_df['birthState'][index]\n",
    "            try:\n",
    "                player_lat_lon = geocode(birthCity, birthState)\n",
    "                pos = (player_lat_lon['lat'],player_lat_lon['lon']) \n",
    "                message = \"%s, %s-%s %s, %s \" % (player_info_df['nameGiven'][index],player_info_df['birthYear'][index], player_info_df['deathYear'][index],birthCity, birthState)\n",
    "                marker = folium.Marker(location=pos, \n",
    "                        popup=message\n",
    "                              )\n",
    "                map.add_children(marker)\n",
    "            except:\n",
    "                pass\n",
    "    return map      "
   ]
  },
  {
   "cell_type": "code",
   "execution_count": null,
   "metadata": {},
   "outputs": [],
   "source": [
    "def geocode(birthCity, birthState):\n",
    "    text = (\"%s , %s\"%(birthCity, birthState))\n",
    "    data =  { 'q' : text, 'format' : 'json'}\n",
    "    url='https://nominatim.openstreetmap.org/search' \n",
    "    response = requests.get(url, params=data)\n",
    "    geodata = response.json()\n",
    "    lat = float(geodata[0]['lat'])\n",
    "    lon = float(geodata[0]['lon'])\n",
    "    lat_lon = {'lat': lat , 'lon': lon}\n",
    "    return lat_lon"
   ]
  },
  {
   "cell_type": "code",
   "execution_count": null,
   "metadata": {},
   "outputs": [],
   "source": [
    "best_3b_hr = pd.DataFrame(pls)"
   ]
  },
  {
   "cell_type": "code",
   "execution_count": null,
   "metadata": {
    "scrolled": true
   },
   "outputs": [],
   "source": [
    "list_of_positions = ['3b','2b','1b','ss','c','lf','cf','rf']"
   ]
  },
  {
   "cell_type": "code",
   "execution_count": null,
   "metadata": {},
   "outputs": [],
   "source": [
    "print(\"---MLB Stat Leaders by Position---\")\n",
    "while True:\n",
    "    print(list_of_positions)\n",
    "    position = input(\"Please input a positon see above or 'quit':  \")\n",
    "    position = position.lower()\n",
    "    if position == 'quit':\n",
    "        print(\"Quitting...\")\n",
    "        break\n",
    "    elif position == 'all':\n",
    "        desired_players = batting_career['playerID']\n",
    "    else:\n",
    "        if position in list_of_positions:\n",
    "            desired_players = player_search(position)\n",
    "        else:\n",
    "            print(\"Please Input a Valid Postition\")\n",
    "            break\n",
    "    print(batting_career.keys())\n",
    "    stat = input(\"Please Input the Stat You Would Like to See 'H, HR, AB':\")\n",
    "    stat = stat.upper()\n",
    "    if stat == 'QUIT':\n",
    "        print(\"Quitting...\")\n",
    "        break\n",
    "    try:\n",
    "        player_list = batting_career.sort_values(by=[stat], ascending=False)\n",
    "    except:\n",
    "        print(\"Please Input a Valid Stat\")\n",
    "        break\n",
    "    number_of_players = input(\"How Many Players Would You Like To See? \")\n",
    "    if number_of_players.lower() == 'quit':\n",
    "        print(\"Quitting...\")\n",
    "        break\n",
    "    try:\n",
    "        number_of_players = int(number_of_players)\n",
    "        best_of_players = player_sort_by_stat(player_list, desired_players, stat, number_of_players, batting_career)\n",
    "    except:\n",
    "        print(\"Please Input an Integer\")\n",
    "        break\n",
    "    best_of_players_df = pd.DataFrame(best_of_players)\n",
    "    for player in best_of_players_df['playerID']:\n",
    "        listofplayers.append(player)\n",
    "    print(best_of_players_df) "
   ]
  },
  {
   "cell_type": "code",
   "execution_count": null,
   "metadata": {
    "scrolled": true
   },
   "outputs": [],
   "source": [
    "listofplayers"
   ]
  },
  {
   "cell_type": "code",
   "execution_count": null,
   "metadata": {},
   "outputs": [],
   "source": [
    "def player_map(listofplayers):\n",
    "    map = folium.Map(location=(39.8283, -98.5795), zoom_start=4.21)\n",
    "    for player in player_info_df.to_records():\n",
    "        if player['playerID'] in listofplayers:\n",
    "            birthCity = player['birthCity']\n",
    "            birthState = player['birthState']\n",
    "            if player['birthCountry'] == \"USA\":\n",
    "                birthState = states[birthState]\n",
    "            try:\n",
    "                first_name = player['nameFirst']\n",
    "                last_name = player['nameLast']\n",
    "                name = first_name + \" \" + last_name\n",
    "                player_lat_lon = geocode(birthCity, birthState)\n",
    "                pos = (player_lat_lon['lat'],player_lat_lon['lon']) \n",
    "                message = \"%s, %s-%s %s, %s \" % (name,player['birthYear'], player['deathYear'],birthCity, birthState)\n",
    "                marker = folium.Marker(location=pos, \n",
    "                        popup=message\n",
    "                              )\n",
    "                map.add_children(marker)\n",
    "            except:\n",
    "                pass\n",
    "    return map"
   ]
  },
  {
   "cell_type": "code",
   "execution_count": null,
   "metadata": {},
   "outputs": [],
   "source": [
    "player_map(listofplayers)"
   ]
  },
  {
   "cell_type": "code",
   "execution_count": null,
   "metadata": {},
   "outputs": [],
   "source": []
  },
  {
   "cell_type": "code",
   "execution_count": null,
   "metadata": {},
   "outputs": [],
   "source": []
  }
 ],
 "metadata": {
  "kernelspec": {
   "display_name": "Python 3",
   "language": "python",
   "name": "python3"
  },
  "language_info": {
   "codemirror_mode": {
    "name": "ipython",
    "version": 3
   },
   "file_extension": ".py",
   "mimetype": "text/x-python",
   "name": "python",
   "nbconvert_exporter": "python",
   "pygments_lexer": "ipython3",
   "version": "3.6.6"
  }
 },
 "nbformat": 4,
 "nbformat_minor": 2
}
