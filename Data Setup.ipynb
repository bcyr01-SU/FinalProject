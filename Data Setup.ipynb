{
 "cells": [
  {
   "cell_type": "code",
   "execution_count": null,
   "metadata": {},
   "outputs": [],
   "source": [
    "def career_batting():\n",
    "    for player_season in batting.to_records():\n",
    "        if player_season['playerID'] in players_already_entered:\n",
    "            for player in batting_career:\n",
    "                if player_season['playerID'] == player['playerID']:\n",
    "                    player['G'] += player_season['G']\n",
    "                    player['AB'] += player_season['AB']\n",
    "                    player['R'] += player_season['R']\n",
    "                    player['H'] += player_season['H']\n",
    "                    player['HR'] += player_season['HR']\n",
    "                    player['RBI'] += player_season['RBI']\n",
    "                    player['SB'] += player_season['SB']\n",
    "                    player['AVG'] = ((player['AVG']+(player_season['H']/player_season['AB']))/2)\n",
    "                    break\n",
    "        else:\n",
    "                batting_career_stats = {\"playerID\" : player_season['playerID'], 'G' : player_season['G'], 'AB' : player_season['AB'], 'R' : player_season['R'], 'H' : player_season['H'] , 'HR' : player_season['HR'], 'RBI' : player_season['RBI'] , 'SB' : player_season['SB'], 'AVG' :  player_season['H']/player_season['AB']}\n",
    "                batting_career.append(batting_career_stats)\n",
    "                players_already_entered.append(player_season['playerID'])\n",
    "    return batting_career"
   ]
  },
  {
   "cell_type": "code",
   "execution_count": null,
   "metadata": {},
   "outputs": [],
   "source": [
    "batting_career = career_batting()\n",
    "batting_career = pd.DataFrame(batting_career)\n",
    "batting_career.to_csv('batting_career', encoding='utf-8', index=False)"
   ]
  },
  {
   "cell_type": "code",
   "execution_count": null,
   "metadata": {},
   "outputs": [],
   "source": [
    "def career_apperances():\n",
    "    for player_season in appearances.to_records():\n",
    "        if player_season['playerID'] in players_already_entered:\n",
    "            for player in batting_career:\n",
    "                if player_season['playerID'] == player['playerID']:\n",
    "                    player['G_p'] += player_season['G_p']\n",
    "                    player['G_c'] += player_season['G_c']\n",
    "                    player['G_1b'] += player_season['G_1b']\n",
    "                    player['G_2b'] += player_season['G_2b']\n",
    "                    player['G_3b'] += player_season['G_3b']\n",
    "                    player['G_ss'] += player_season['G_ss']\n",
    "                    player['G_rf'] += player_season['G_rf']\n",
    "                    player['G_cf'] += player_season['G_cf']\n",
    "                    player['G_lf'] += player_season['G_lf']\n",
    "                    break\n",
    "        else:\n",
    "                match_career_stats = {\"playerID\" : player_season['playerID'], 'G_cf' : player_season['G_cf'], 'G_p' : player_season['G_p'], 'G_c' : player_season['G_c'], 'G_1b' : player_season['G_1b'] , 'G_2b' : player_season['G_2b'], 'G_3b' : player_season['G_3b'] , 'G_ss' : player_season['G_ss'],  'G_rf' : player_season['G_rf'],  'G_lf' : player_season['G_lf']}\n",
    "                matches_career.append(match_career_stats)\n",
    "                players_already_entered.append(player_season['playerID'])\n",
    "    return matches_career"
   ]
  },
  {
   "cell_type": "code",
   "execution_count": null,
   "metadata": {},
   "outputs": [],
   "source": [
    "apperances_career = career_apperances()\n",
    "apperances_career = pd.DataFrame(apperances_career)\n",
    "apperances_career.to_csv('career_appearances', encoding='utf-8', index=False)"
   ]
  }
 ],
 "metadata": {
  "kernelspec": {
   "display_name": "Python 3",
   "language": "python",
   "name": "python3"
  },
  "language_info": {
   "codemirror_mode": {
    "name": "ipython",
    "version": 3
   },
   "file_extension": ".py",
   "mimetype": "text/x-python",
   "name": "python",
   "nbconvert_exporter": "python",
   "pygments_lexer": "ipython3",
   "version": "3.6.6"
  }
 },
 "nbformat": 4,
 "nbformat_minor": 2
}
