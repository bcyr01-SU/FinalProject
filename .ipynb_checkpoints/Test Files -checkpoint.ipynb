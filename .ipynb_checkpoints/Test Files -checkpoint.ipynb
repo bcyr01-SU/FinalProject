{
 "cells": [
  {
   "cell_type": "code",
   "execution_count": 61,
   "metadata": {},
   "outputs": [],
   "source": [
    "import pandas as pd\n",
    "import folium\n",
    "import requests\n",
    "import numpy as np\n",
    "\n",
    "halloffame_data = pd.read_csv('HallOfFame.csv')\n",
    "player_info_df = pd.read_csv('People.csv')\n",
    "listofplayers = []\n",
    "player_id = player_info_df['playerID']\n",
    "for player in halloffame_data.to_records():\n",
    "    if player['inducted'] == 'Y':\n",
    "        listofplayers.append(player['playerID'])\n"
   ]
  },
  {
   "cell_type": "code",
   "execution_count": 72,
   "metadata": {},
   "outputs": [],
   "source": [
    "def player_map():\n",
    "    lat_list = []\n",
    "    lon_list = []\n",
    "    for index,playerid in enumerate(player_id):\n",
    "        if playerid in listofplayers:\n",
    "            birthCity = player_info_df['birthCity'][index]\n",
    "            birthState = player_info_df['birthState'][index]\n",
    "            player_lat_lon = geocode(birthCity, birthState)\n",
    "            pos = (player_lat_lon['lat'],player_lat_lon['lon'])\n",
    "            message = \"%s, %s-%s %s, %s \" % (player_info_df['nameGiven'][index],player_info_df['birthYear'][index], player_info_df['deathYear'][index],birthCity, birthState)\n",
    "            marker = folium.Marker(location=pos, \n",
    "                    popup=message\n",
    "                          )\n",
    "            map.add_children(marker)\n",
    "    return map\n",
    "        \n",
    "    \n",
    "\n",
    "\n",
    "    "
   ]
  },
  {
   "cell_type": "code",
   "execution_count": 71,
   "metadata": {},
   "outputs": [],
   "source": [
    "def geocode(birthCity, birthState):\n",
    "    text = birthCity +','+ birthState\n",
    "    data =  { 'q' : text, 'format' : 'json'}\n",
    "    url='https://nominatim.openstreetmap.org/search' \n",
    "    response = requests.get(url, params=data)\n",
    "    geodata = response.json()\n",
    "    lat = float(geodata[0]['lat'])\n",
    "    lon = float(geodata[0]['lon'])\n",
    "    lat_lon = {'lat': lat , 'lon': lon}\n",
    "    return lat_lon"
   ]
  },
  {
   "cell_type": "code",
   "execution_count": 73,
   "metadata": {},
   "outputs": [
    {
     "ename": "AttributeError",
     "evalue": "type object 'map' has no attribute 'add_children'",
     "output_type": "error",
     "traceback": [
      "\u001b[1;31m---------------------------------------------------------------------------\u001b[0m",
      "\u001b[1;31mAttributeError\u001b[0m                            Traceback (most recent call last)",
      "\u001b[1;32m<ipython-input-73-d9a9677b53fb>\u001b[0m in \u001b[0;36m<module>\u001b[1;34m\u001b[0m\n\u001b[1;32m----> 1\u001b[1;33m \u001b[0mplayer_map\u001b[0m\u001b[1;33m(\u001b[0m\u001b[1;33m)\u001b[0m\u001b[1;33m\u001b[0m\u001b[0m\n\u001b[0m",
      "\u001b[1;32m<ipython-input-72-4960f60590e7>\u001b[0m in \u001b[0;36mplayer_map\u001b[1;34m()\u001b[0m\n\u001b[0;32m     12\u001b[0m                     \u001b[0mpopup\u001b[0m\u001b[1;33m=\u001b[0m\u001b[0mmessage\u001b[0m\u001b[1;33m\u001b[0m\u001b[0m\n\u001b[0;32m     13\u001b[0m                           )\n\u001b[1;32m---> 14\u001b[1;33m             \u001b[0mmap\u001b[0m\u001b[1;33m.\u001b[0m\u001b[0madd_children\u001b[0m\u001b[1;33m(\u001b[0m\u001b[0mmarker\u001b[0m\u001b[1;33m)\u001b[0m\u001b[1;33m\u001b[0m\u001b[0m\n\u001b[0m\u001b[0;32m     15\u001b[0m     \u001b[1;32mreturn\u001b[0m \u001b[0mmap\u001b[0m\u001b[1;33m\u001b[0m\u001b[0m\n\u001b[0;32m     16\u001b[0m \u001b[1;33m\u001b[0m\u001b[0m\n",
      "\u001b[1;31mAttributeError\u001b[0m: type object 'map' has no attribute 'add_children'"
     ]
    }
   ],
   "source": [
    "player_map()"
   ]
  },
  {
   "cell_type": "code",
   "execution_count": null,
   "metadata": {},
   "outputs": [],
   "source": []
  },
  {
   "cell_type": "code",
   "execution_count": null,
   "metadata": {},
   "outputs": [],
   "source": []
  }
 ],
 "metadata": {
  "kernelspec": {
   "display_name": "Python 3",
   "language": "python",
   "name": "python3"
  },
  "language_info": {
   "codemirror_mode": {
    "name": "ipython",
    "version": 3
   },
   "file_extension": ".py",
   "mimetype": "text/x-python",
   "name": "python",
   "nbconvert_exporter": "python",
   "pygments_lexer": "ipython3",
   "version": "3.6.6"
  }
 },
 "nbformat": 4,
 "nbformat_minor": 2
}
