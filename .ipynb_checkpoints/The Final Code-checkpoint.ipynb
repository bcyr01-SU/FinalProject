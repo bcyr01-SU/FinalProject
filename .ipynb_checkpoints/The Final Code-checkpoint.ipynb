{
 "cells": [
  {
   "cell_type": "code",
   "execution_count": 1,
   "metadata": {},
   "outputs": [],
   "source": [
    "import pandas as pd\n",
    "import folium\n",
    "import requests\n",
    "import numpy as np\n",
    "import folium.plugins\n",
    "\n",
    "batting = pd.read_csv('Batting.csv')\n",
    "player_info_df = pd.read_csv('People.csv')\n",
    "batting_career = []\n",
    "listofplayers = []\n",
    "list_of_names = []\n",
    "players_already_entered = []\n",
    "i = 0\n",
    "i=i\n",
    "list_of_positions = ['3b','2b','1b','ss','c','lf','cf','rf']\n",
    "appearances = pd.read_csv(\"Appearances.csv\")\n",
    "apperances_career = pd.read_csv(\"career_appearances\")\n",
    "player_id = player_info_df['playerID']\n",
    "states = {\n",
    "        'AK': 'Alaska',\n",
    "        'AL': 'Alabama',\n",
    "        'AR': 'Arkansas',\n",
    "        'AS': 'American Samoa',\n",
    "        'AZ': 'Arizona',\n",
    "        'CA': 'California',\n",
    "        'CO': 'Colorado',\n",
    "        'CT': 'Connecticut',\n",
    "        'DC': 'District of Columbia',\n",
    "        'DE': 'Delaware',\n",
    "        'FL': 'Florida',\n",
    "        'GA': 'Georgia',\n",
    "        'GU': 'Guam',\n",
    "        'HI': 'Hawaii',\n",
    "        'IA': 'Iowa',\n",
    "        'ID': 'Idaho',\n",
    "        'IL': 'Illinois',\n",
    "        'IN': 'Indiana',\n",
    "        'KS': 'Kansas',\n",
    "        'KY': 'Kentucky',\n",
    "        'LA': 'Louisiana',\n",
    "        'MA': 'Massachusetts',\n",
    "        'MD': 'Maryland',\n",
    "        'ME': 'Maine',\n",
    "        'MI': 'Michigan',\n",
    "        'MN': 'Minnesota',\n",
    "        'MO': 'Missouri',\n",
    "        'MP': 'Northern Mariana Islands',\n",
    "        'MS': 'Mississippi',\n",
    "        'MT': 'Montana',\n",
    "        'NA': 'National',\n",
    "        'NC': 'North Carolina',\n",
    "        'ND': 'North Dakota',\n",
    "        'NE': 'Nebraska',\n",
    "        'NH': 'New Hampshire',\n",
    "        'NJ': 'New Jersey',\n",
    "        'NM': 'New Mexico',\n",
    "        'NV': 'Nevada',\n",
    "        'NY': 'New York',\n",
    "        'OH': 'Ohio',\n",
    "        'OK': 'Oklahoma',\n",
    "        'OR': 'Oregon',\n",
    "        'PA': 'Pennsylvania',\n",
    "        'PR': 'Puerto Rico',\n",
    "        'RI': 'Rhode Island',\n",
    "        'SC': 'South Carolina',\n",
    "        'SD': 'South Dakota',\n",
    "        'TN': 'Tennessee',\n",
    "        'TX': 'Texas',\n",
    "        'UT': 'Utah',\n",
    "        'VA': 'Virginia',\n",
    "        'VI': 'Virgin Islands',\n",
    "        'VT': 'Vermont',\n",
    "        'WA': 'Washington',\n",
    "        'WI': 'Wisconsin',\n",
    "        'WV': 'West Virginia',\n",
    "        'WY': 'Wyoming'\n",
    "}\n",
    "batting_career = pd.read_csv('batting_career')\n"
   ]
  },
  {
   "cell_type": "code",
   "execution_count": 2,
   "metadata": {},
   "outputs": [],
   "source": [
    "def player_sort_by_stat(player_list, desired_players, stat, number_of_players,batting_career):\n",
    "    i = 0\n",
    "    best_for_position = []\n",
    "    for player in player_list.to_records():\n",
    "        if player['playerID'] in desired_players and i < number_of_players:\n",
    "            player_stats = {'playerID' : player['playerID'], stat : player[stat]}\n",
    "            best_for_position.append(player_stats)\n",
    "            i += 1\n",
    "        elif i >= number_of_players:\n",
    "            break\n",
    "    return best_for_position"
   ]
  },
  {
   "cell_type": "code",
   "execution_count": 3,
   "metadata": {},
   "outputs": [],
   "source": [
    "def player_search(position):\n",
    "    desired_players = []\n",
    "    position = position.lower()\n",
    "    position_key = \"G_\" + position\n",
    "    for player in apperances_career.to_records():\n",
    "        player_position = max_position(player)\n",
    "        if position_key == player_position:\n",
    "            name = player['playerID']\n",
    "            desired_players.append(name)\n",
    "    return desired_players "
   ]
  },
  {
   "cell_type": "code",
   "execution_count": 4,
   "metadata": {},
   "outputs": [],
   "source": [
    "def max_position(player):\n",
    "    max_position = -1\n",
    "    if int(player['G_p']) > max_position:\n",
    "        max_position = int(player['G_p'])\n",
    "        position = \"G_p\"\n",
    "    if int(player['G_c']) > max_position:\n",
    "        max_position = int(player['G_c'])\n",
    "        position = \"G_c\"\n",
    "    if int(player['G_1b']) > max_position:\n",
    "        max_position = int(player['G_1b'])\n",
    "        position = \"G_1b\"\n",
    "    if int(player['G_2b']) > max_position:\n",
    "        max_position = int(player['G_2b'])\n",
    "        position = \"G_2b\"\n",
    "    if int(player['G_ss']) > max_position:\n",
    "        max_position = int(player['G_ss'])\n",
    "        position = \"G_ss\"\n",
    "    if int(player['G_3b']) > max_position:\n",
    "        max_position = int(player['G_3b'])\n",
    "        position = \"G_3b\"\n",
    "    if int(player['G_lf']) > max_position:\n",
    "        max_position = int(player['G_lf'])\n",
    "        position = \"G_lf\"\n",
    "    if int(player['G_cf']) > max_position:\n",
    "        max_position = int(player['G_cf'])\n",
    "        position = \"G_cf\"\n",
    "    if int(player['G_rf']) > max_position:\n",
    "        max_position = int(player['G_rf'])\n",
    "        position = \"G_rf\"\n",
    "    return position "
   ]
  },
  {
   "cell_type": "code",
   "execution_count": 5,
   "metadata": {},
   "outputs": [],
   "source": [
    "def geocode(birthCity, birthState):\n",
    "    text = (\"%s , %s\"%(birthCity, birthState))\n",
    "    data =  { 'q' : text, 'format' : 'json'}\n",
    "    url='https://nominatim.openstreetmap.org/search' \n",
    "    response = requests.get(url, params=data)\n",
    "    geodata = response.json()\n",
    "    lat = float(geodata[0]['lat'])\n",
    "    lon = float(geodata[0]['lon'])\n",
    "    lat_lon = {'lat': lat , 'lon': lon}\n",
    "    return lat_lon"
   ]
  },
  {
   "cell_type": "code",
   "execution_count": 9,
   "metadata": {},
   "outputs": [],
   "source": [
    "def player_map(listofplayers, i):\n",
    "    my_map = folium.Map(location=(39.8283, -98.5795), zoom_start=4.21)\n",
    "    cluster = folium.plugins.MarkerCluster().add_to(my_map)\n",
    "    for player in player_info_df.to_records():\n",
    "        if player['playerID'] in listofplayers:\n",
    "            birthCity = player['birthCity']\n",
    "            birthState = player['birthState']\n",
    "            if player['birthCountry'] == \"USA\":\n",
    "                birthState = states[birthState]\n",
    "            try:\n",
    "                first_name = player['nameFirst']\n",
    "                last_name = player['nameLast']\n",
    "                name = first_name + \" \" + last_name\n",
    "                player_lat_lon = geocode(birthCity, birthState)\n",
    "                pos = (player_lat_lon['lat'],player_lat_lon['lon']) \n",
    "                message = \"%s, %s-%s %s, %s \" % (name,player['birthYear'], player['deathYear'],birthCity, birthState)\n",
    "                marker = folium.Marker(location=pos, \n",
    "                        popup=message\n",
    "                              ).add_to(cluster)\n",
    "                folium.LayerControl(collapsed=False).add_to(my_map)\n",
    "            except:\n",
    "                pass\n",
    "    i += 1\n",
    "    return my_map"
   ]
  },
  {
   "cell_type": "code",
   "execution_count": 10,
   "metadata": {
    "scrolled": true
   },
   "outputs": [
    {
     "name": "stdout",
     "output_type": "stream",
     "text": [
      "---MLB Stat Leaders by Position---\n",
      "['3b', '2b', '1b', 'ss', 'c', 'lf', 'cf', 'rf']\n",
      "Please input a positon see above or 'quit':  ss\n",
      "Index(['AB', 'AVG', 'G', 'H', 'HR', 'R', 'RBI', 'SB', 'playerID'], dtype='object')\n",
      "Please Input the Stat You Would Like to See 'H, HR, AB':h\n",
      "How Many Players Would You Like To See? 5\n",
      "      H   playerID            Name\n",
      "0  3465  jeterde01     Derek Jeter\n",
      "1  3184  ripkeca01      Cal Ripken\n",
      "2  3142  yountro01     Robin Yount\n",
      "3  3115  rodrial01  Alex Rodriguez\n",
      "4  2877  vizquom01    Omar Vizquel\n"
     ]
    },
    {
     "data": {
      "text/html": [
       "<div style=\"width:100%;\"><div style=\"position:relative;width:100%;height:0;padding-bottom:60%;\"><iframe src=\"data:text/html;charset=utf-8;base64,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\" style=\"position:absolute;width:100%;height:100%;left:0;top:0;border:none !important;\" allowfullscreen webkitallowfullscreen mozallowfullscreen></iframe></div></div>"
      ],
      "text/plain": [
       "<folium.folium.Map at 0x22a28262b70>"
      ]
     },
     "execution_count": 10,
     "metadata": {},
     "output_type": "execute_result"
    }
   ],
   "source": [
    "print(\"---MLB Stat Leaders by Position---\")\n",
    "while True:\n",
    "    print(list_of_positions)\n",
    "    position = input(\"Please input a positon see above or 'quit':  \")\n",
    "    position = position.lower()\n",
    "    if position == 'quit':\n",
    "        print(\"Quitting...\")\n",
    "        break\n",
    "    else:\n",
    "        if position in list_of_positions:\n",
    "            desired_players = player_search(position)\n",
    "        else:\n",
    "            print(\"Please Input a Valid Postition\")\n",
    "            break\n",
    "    print(batting_career.keys())\n",
    "    stat = input(\"Please Input the Stat You Would Like to See 'H, HR, AB':\")\n",
    "    stat = stat.upper()\n",
    "    if stat == 'QUIT':\n",
    "        print(\"Quitting...\")\n",
    "        break\n",
    "    try:\n",
    "        player_list = batting_career.sort_values(by=[stat], ascending=False)\n",
    "    except:\n",
    "        print(\"Please Input a Valid Stat\")\n",
    "        break\n",
    "    number_of_players = input(\"How Many Players Would You Like To See? \")\n",
    "    if number_of_players.lower() == 'quit':\n",
    "        print(\"Quitting...\")\n",
    "        break\n",
    "    try:\n",
    "        number_of_players = int(number_of_players)\n",
    "        best_of_players = player_sort_by_stat(player_list, desired_players, stat, number_of_players, batting_career)\n",
    "    except:\n",
    "        print(\"Please Input an Integer\")\n",
    "        break\n",
    "    best_of_players_df = pd.DataFrame(best_of_players)\n",
    "    for player_id in best_of_players_df['playerID']:\n",
    "        listofplayers.append(player_id)\n",
    "        for player in player_info_df.to_records():\n",
    "            if player['playerID'] == player_id: \n",
    "                name = player['nameFirst'] + ' ' + player['nameLast']\n",
    "                list_of_names.append(name)\n",
    "                break\n",
    "    best_of_players_df['Name'] = list_of_names\n",
    "    list_of_names = []\n",
    "    print(best_of_players_df)\n",
    "    break    \n",
    "player_map(listofplayers, i)"
   ]
  },
  {
   "cell_type": "code",
   "execution_count": 7,
   "metadata": {},
   "outputs": [
    {
     "ename": "NameError",
     "evalue": "name 'MarkerCluster' is not defined",
     "output_type": "error",
     "traceback": [
      "\u001b[1;31m---------------------------------------------------------------------------\u001b[0m",
      "\u001b[1;31mNameError\u001b[0m                                 Traceback (most recent call last)",
      "\u001b[1;32m<ipython-input-7-7eb086a7e056>\u001b[0m in \u001b[0;36m<module>\u001b[1;34m\u001b[0m\n\u001b[1;32m----> 1\u001b[1;33m \u001b[0mhelp\u001b[0m\u001b[1;33m(\u001b[0m\u001b[0mMarkerCluster\u001b[0m\u001b[1;33m(\u001b[0m\u001b[1;33m)\u001b[0m\u001b[1;33m)\u001b[0m\u001b[1;33m\u001b[0m\u001b[0m\n\u001b[0m",
      "\u001b[1;31mNameError\u001b[0m: name 'MarkerCluster' is not defined"
     ]
    }
   ],
   "source": [
    "help(MarkerCluster())"
   ]
  },
  {
   "cell_type": "code",
   "execution_count": 14,
   "metadata": {},
   "outputs": [
    {
     "data": {
      "text/plain": [
       "['__class__',\n",
       " '__delattr__',\n",
       " '__dict__',\n",
       " '__dir__',\n",
       " '__doc__',\n",
       " '__eq__',\n",
       " '__format__',\n",
       " '__ge__',\n",
       " '__getattribute__',\n",
       " '__gt__',\n",
       " '__hash__',\n",
       " '__init__',\n",
       " '__init_subclass__',\n",
       " '__le__',\n",
       " '__lt__',\n",
       " '__module__',\n",
       " '__ne__',\n",
       " '__new__',\n",
       " '__reduce__',\n",
       " '__reduce_ex__',\n",
       " '__repr__',\n",
       " '__setattr__',\n",
       " '__sizeof__',\n",
       " '__str__',\n",
       " '__subclasshook__',\n",
       " '__weakref__',\n",
       " '_children',\n",
       " '_env',\n",
       " '_get_self_bounds',\n",
       " '_id',\n",
       " '_name',\n",
       " '_parent',\n",
       " '_template',\n",
       " '_validate',\n",
       " 'add_child',\n",
       " 'add_children',\n",
       " 'add_to',\n",
       " 'control',\n",
       " 'get_bounds',\n",
       " 'get_name',\n",
       " 'get_root',\n",
       " 'icon_create_function',\n",
       " 'layer_name',\n",
       " 'options',\n",
       " 'overlay',\n",
       " 'render',\n",
       " 'save',\n",
       " 'show',\n",
       " 'to_dict',\n",
       " 'to_json']"
      ]
     },
     "execution_count": 14,
     "metadata": {},
     "output_type": "execute_result"
    }
   ],
   "source": [
    "dir(folium.plugins.MarkerCluster())"
   ]
  },
  {
   "cell_type": "code",
   "execution_count": 29,
   "metadata": {},
   "outputs": [
    {
     "data": {
      "text/plain": [
       "0"
      ]
     },
     "execution_count": 29,
     "metadata": {},
     "output_type": "execute_result"
    }
   ],
   "source": [
    "i\n"
   ]
  },
  {
   "cell_type": "code",
   "execution_count": null,
   "metadata": {},
   "outputs": [],
   "source": []
  }
 ],
 "metadata": {
  "kernelspec": {
   "display_name": "Python 3",
   "language": "python",
   "name": "python3"
  },
  "language_info": {
   "codemirror_mode": {
    "name": "ipython",
    "version": 3
   },
   "file_extension": ".py",
   "mimetype": "text/x-python",
   "name": "python",
   "nbconvert_exporter": "python",
   "pygments_lexer": "ipython3",
   "version": "3.6.6"
  }
 },
 "nbformat": 4,
 "nbformat_minor": 2
}
