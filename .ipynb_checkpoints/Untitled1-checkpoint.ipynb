{
 "cells": [
  {
   "cell_type": "code",
   "execution_count": 1,
   "metadata": {},
   "outputs": [],
   "source": [
    "from requests.auth import HTTPBasicAuth\n",
    "import requests\n",
    "import json\n",
    "url = \"https://api.mysportsfeeds.com/v1.2/pull/mlb/2018-regular/scoreboard.json?fordate=20180422\"\n",
    "data = requests.get(url, auth=HTTPBasicAuth())\n",
    "data_json = data.json()\n",
    "gamescores = data_json['scoreboard']['gameScore']"
   ]
  },
  {
   "cell_type": "code",
   "execution_count": 37,
   "metadata": {},
   "outputs": [
    {
     "name": "stdout",
     "output_type": "stream",
     "text": [
      "The game between Braves and Mets was delayed due to Rain and is rescheduled for 2018-05-28 at 7:00PM\n",
      "---The Reschuled Score---\n",
      "Braves: 5\n",
      "Mets: 8\n"
     ]
    }
   ],
   "source": [
    "def game_score(team, gamescores):\n",
    "    import pandas as pd\n",
    "    for game in gamescores:\n",
    "        games = game['game']\n",
    "        home_team = games['homeTeam']\n",
    "        away_team = games['awayTeam']\n",
    "        home_team_name = home_team['Name']\n",
    "        away_team_name = away_team['Name']\n",
    "        home_score = game[\"homeScore\"]\n",
    "        away_score = game[\"awayScore\"]\n",
    "        if team.lower() == home_team_name.lower() or team.lower() == away_team_name.lower():\n",
    "            if games['delayedOrPostponedReason'] != None:\n",
    "                print(\"The game between %s and %s was delayed due to %s and is rescheduled for %s at %s\"%(home_team_name, away_team_name, games['delayedOrPostponedReason'], games['date'], games['time'] ))\n",
    "                print(\"---The Reschuled Score---\")\n",
    "                print(\"%s: %s\"%(home_team_name, home_score ))\n",
    "                print(\"%s: %s\"%(away_team_name, away_score ))\n",
    "            elif game['isUnplayed'] == 'false':\n",
    "                print(\"%s: %s\"%(home_team_name, home_score ))\n",
    "                print(\"%s: %s\"%(away_team_name, away_score ))\n",
    "            elif game['isUnplayed'] == 'true':\n",
    "                print(\"The %s and the %s did not play due to %s \"%(home_team_name, away_team_name, games['delayedOrPostponedReason']))\n",
    "        ##else:\n",
    "            ##print(\"The %s did not play on this day\"%team.title())  ## add control to have user pick day and year\n",
    "            \n",
    "game_score(\"Mets\", gamescores)        "
   ]
  },
  {
   "cell_type": "code",
   "execution_count": 5,
   "metadata": {},
   "outputs": [
    {
     "name": "stdout",
     "output_type": "stream",
     "text": [
      "[{'game': {'ID': '43742', 'scheduleStatus': 'Normal', 'originalDate': None, 'originalTime': None, 'delayedOrPostponedReason': None, 'date': '2018-04-22', 'time': '1:05PM', 'awayTeam': {'ID': '116', 'City': 'Cleveland', 'Name': 'Indians', 'Abbreviation': 'CLE'}, 'homeTeam': {'ID': '111', 'City': 'Baltimore', 'Name': 'Orioles', 'Abbreviation': 'BAL'}, 'location': 'Oriole Park at Camden Yards'}, 'isUnplayed': 'false', 'isInProgress': 'false', 'isCompleted': 'true', 'playStatus': None, 'awayScore': '7', 'homeScore': '3', 'inningSummary': {'inning': [{'@number': '1', 'awayScore': '0', 'homeScore': '1'}, {'@number': '2', 'awayScore': '0', 'homeScore': '0'}, {'@number': '3', 'awayScore': '0', 'homeScore': '0'}, {'@number': '4', 'awayScore': '2', 'homeScore': '2'}, {'@number': '5', 'awayScore': '2', 'homeScore': '0'}, {'@number': '6', 'awayScore': '0', 'homeScore': '0'}, {'@number': '7', 'awayScore': '0', 'homeScore': '0'}, {'@number': '8', 'awayScore': '0', 'homeScore': '0'}, {'@number': '9', 'awayScore': '3', 'homeScore': '0'}]}}, {'game': {'ID': '43743', 'scheduleStatus': 'Normal', 'originalDate': None, 'originalTime': None, 'delayedOrPostponedReason': None, 'date': '2018-04-22', 'time': '1:05PM', 'awayTeam': {'ID': '112', 'City': 'Toronto', 'Name': 'Blue Jays', 'Abbreviation': 'TOR'}, 'homeTeam': {'ID': '114', 'City': 'New York', 'Name': 'Yankees', 'Abbreviation': 'NYY'}, 'location': 'Yankee Stadium'}, 'isUnplayed': 'false', 'isInProgress': 'false', 'isCompleted': 'true', 'playStatus': None, 'awayScore': '1', 'homeScore': '5', 'inningSummary': {'inning': [{'@number': '1', 'awayScore': '0', 'homeScore': '1'}, {'@number': '2', 'awayScore': '0', 'homeScore': '2'}, {'@number': '3', 'awayScore': '0', 'homeScore': '0'}, {'@number': '4', 'awayScore': '0', 'homeScore': '0'}, {'@number': '5', 'awayScore': '0', 'homeScore': '0'}, {'@number': '6', 'awayScore': '1', 'homeScore': '1'}, {'@number': '7', 'awayScore': '0', 'homeScore': '1'}, {'@number': '8', 'awayScore': '0', 'homeScore': '0'}, {'@number': '9', 'awayScore': '0', 'homeScore': '0'}]}}, {'game': {'ID': '43744', 'scheduleStatus': 'Normal', 'originalDate': None, 'originalTime': None, 'delayedOrPostponedReason': None, 'date': '2018-04-22', 'time': '1:10PM', 'awayTeam': {'ID': '118', 'City': 'Kansas City', 'Name': 'Royals', 'Abbreviation': 'KC'}, 'homeTeam': {'ID': '117', 'City': 'Detroit', 'Name': 'Tigers', 'Abbreviation': 'DET'}, 'location': 'Comerica Park'}, 'isUnplayed': 'false', 'isInProgress': 'false', 'isCompleted': 'true', 'playStatus': None, 'awayScore': '8', 'homeScore': '5', 'inningSummary': {'inning': [{'@number': '1', 'awayScore': '0', 'homeScore': '2'}, {'@number': '2', 'awayScore': '0', 'homeScore': '0'}, {'@number': '3', 'awayScore': '0', 'homeScore': '0'}, {'@number': '4', 'awayScore': '0', 'homeScore': '0'}, {'@number': '5', 'awayScore': '0', 'homeScore': '0'}, {'@number': '6', 'awayScore': '5', 'homeScore': '3'}, {'@number': '7', 'awayScore': '3', 'homeScore': '0'}, {'@number': '8', 'awayScore': '0', 'homeScore': '0'}, {'@number': '9', 'awayScore': '0', 'homeScore': '0'}]}}, {'game': {'ID': '43745', 'scheduleStatus': 'Normal', 'originalDate': None, 'originalTime': None, 'delayedOrPostponedReason': None, 'date': '2018-04-22', 'time': '1:10PM', 'awayTeam': {'ID': '120', 'City': 'Minnesota', 'Name': 'Twins', 'Abbreviation': 'MIN'}, 'homeTeam': {'ID': '115', 'City': 'Tampa Bay', 'Name': 'Rays', 'Abbreviation': 'TB'}, 'location': 'Tropicana Field'}, 'isUnplayed': 'false', 'isInProgress': 'false', 'isCompleted': 'true', 'playStatus': None, 'awayScore': '6', 'homeScore': '8', 'inningSummary': {'inning': [{'@number': '1', 'awayScore': '0', 'homeScore': '2'}, {'@number': '2', 'awayScore': '1', 'homeScore': '0'}, {'@number': '3', 'awayScore': '1', 'homeScore': '0'}, {'@number': '4', 'awayScore': '0', 'homeScore': '0'}, {'@number': '5', 'awayScore': '0', 'homeScore': '0'}, {'@number': '6', 'awayScore': '1', 'homeScore': '4'}, {'@number': '7', 'awayScore': '1', 'homeScore': '0'}, {'@number': '8', 'awayScore': '2', 'homeScore': '0'}, {'@number': '9', 'awayScore': '0', 'homeScore': '2'}]}}, {'game': {'ID': '43747', 'scheduleStatus': 'Normal', 'originalDate': None, 'originalTime': None, 'delayedOrPostponedReason': None, 'date': '2018-04-22', 'time': '1:35PM', 'awayTeam': {'ID': '132', 'City': 'Pittsburgh', 'Name': 'Pirates', 'Abbreviation': 'PIT'}, 'homeTeam': {'ID': '129', 'City': 'Philadelphia', 'Name': 'Phillies', 'Abbreviation': 'PHI'}, 'location': 'Citizens Bank Park'}, 'isUnplayed': 'false', 'isInProgress': 'false', 'isCompleted': 'true', 'playStatus': None, 'awayScore': '2', 'homeScore': '3', 'inningSummary': {'inning': [{'@number': '1', 'awayScore': '0', 'homeScore': '0'}, {'@number': '2', 'awayScore': '0', 'homeScore': '0'}, {'@number': '3', 'awayScore': '0', 'homeScore': '0'}, {'@number': '4', 'awayScore': '0', 'homeScore': '0'}, {'@number': '5', 'awayScore': '2', 'homeScore': '2'}, {'@number': '6', 'awayScore': '0', 'homeScore': '0'}, {'@number': '7', 'awayScore': '0', 'homeScore': '0'}, {'@number': '8', 'awayScore': '0', 'homeScore': '0'}, {'@number': '9', 'awayScore': '0', 'homeScore': '0'}, {'@number': '10', 'awayScore': '0', 'homeScore': '0'}, {'@number': '11', 'awayScore': '0', 'homeScore': '1'}]}}, {'game': {'ID': '43749', 'scheduleStatus': 'Normal', 'originalDate': None, 'originalTime': None, 'delayedOrPostponedReason': None, 'date': '2018-04-22', 'time': '2:10PM', 'awayTeam': {'ID': '128', 'City': 'Miami', 'Name': 'Marlins', 'Abbreviation': 'MIA'}, 'homeTeam': {'ID': '134', 'City': 'Milwaukee', 'Name': 'Brewers', 'Abbreviation': 'MIL'}, 'location': 'Miller Park'}, 'isUnplayed': 'false', 'isInProgress': 'false', 'isCompleted': 'true', 'playStatus': None, 'awayScore': '2', 'homeScore': '4', 'inningSummary': {'inning': [{'@number': '1', 'awayScore': '1', 'homeScore': '0'}, {'@number': '2', 'awayScore': '0', 'homeScore': '0'}, {'@number': '3', 'awayScore': '0', 'homeScore': '0'}, {'@number': '4', 'awayScore': '0', 'homeScore': '2'}, {'@number': '5', 'awayScore': '0', 'homeScore': '0'}, {'@number': '6', 'awayScore': '0', 'homeScore': '0'}, {'@number': '7', 'awayScore': '0', 'homeScore': '1'}, {'@number': '8', 'awayScore': '1', 'homeScore': '1'}, {'@number': '9', 'awayScore': '0', 'homeScore': '0'}]}}, {'game': {'ID': '43748', 'scheduleStatus': 'Normal', 'originalDate': None, 'originalTime': None, 'delayedOrPostponedReason': None, 'date': '2018-04-22', 'time': '2:10PM', 'awayTeam': {'ID': '122', 'City': 'Houston', 'Name': 'Astros', 'Abbreviation': 'HOU'}, 'homeTeam': {'ID': '119', 'City': 'Chicago', 'Name': 'White Sox', 'Abbreviation': 'CWS'}, 'location': 'Guaranteed Rate Field'}, 'isUnplayed': 'false', 'isInProgress': 'false', 'isCompleted': 'true', 'playStatus': None, 'awayScore': '7', 'homeScore': '1', 'inningSummary': {'inning': [{'@number': '1', 'awayScore': '0', 'homeScore': '0'}, {'@number': '2', 'awayScore': '0', 'homeScore': '1'}, {'@number': '3', 'awayScore': '0', 'homeScore': '0'}, {'@number': '4', 'awayScore': '0', 'homeScore': '0'}, {'@number': '5', 'awayScore': '1', 'homeScore': '0'}, {'@number': '6', 'awayScore': '0', 'homeScore': '0'}, {'@number': '7', 'awayScore': '5', 'homeScore': '0'}, {'@number': '8', 'awayScore': '0', 'homeScore': '0'}, {'@number': '9', 'awayScore': '1', 'homeScore': '0'}]}}, {'game': {'ID': '43750', 'scheduleStatus': 'Normal', 'originalDate': None, 'originalTime': None, 'delayedOrPostponedReason': None, 'date': '2018-04-22', 'time': '2:15PM', 'awayTeam': {'ID': '135', 'City': 'Cincinnati', 'Name': 'Reds', 'Abbreviation': 'CIN'}, 'homeTeam': {'ID': '133', 'City': 'St. Louis', 'Name': 'Cardinals', 'Abbreviation': 'STL'}, 'location': 'Busch Stadium'}, 'isUnplayed': 'false', 'isInProgress': 'false', 'isCompleted': 'true', 'playStatus': None, 'awayScore': '2', 'homeScore': '9', 'inningSummary': {'inning': [{'@number': '1', 'awayScore': '0', 'homeScore': '0'}, {'@number': '2', 'awayScore': '0', 'homeScore': '1'}, {'@number': '3', 'awayScore': '0', 'homeScore': '2'}, {'@number': '4', 'awayScore': '0', 'homeScore': '0'}, {'@number': '5', 'awayScore': '0', 'homeScore': '0'}, {'@number': '6', 'awayScore': '2', 'homeScore': '0'}, {'@number': '7', 'awayScore': '0', 'homeScore': '3'}, {'@number': '8', 'awayScore': '0', 'homeScore': '3'}, {'@number': '9', 'awayScore': '0', 'homeScore': '0'}]}}, {'game': {'ID': '43751', 'scheduleStatus': 'Normal', 'originalDate': None, 'originalTime': None, 'delayedOrPostponedReason': None, 'date': '2018-04-22', 'time': '3:05PM', 'awayTeam': {'ID': '123', 'City': 'Seattle', 'Name': 'Mariners', 'Abbreviation': 'SEA'}, 'homeTeam': {'ID': '121', 'City': 'Texas', 'Name': 'Rangers', 'Abbreviation': 'TEX'}, 'location': 'Globe Life Park in Arlington'}, 'isUnplayed': 'false', 'isInProgress': 'false', 'isCompleted': 'true', 'playStatus': None, 'awayScore': '4', 'homeScore': '7', 'inningSummary': {'inning': [{'@number': '1', 'awayScore': '0', 'homeScore': '0'}, {'@number': '2', 'awayScore': '0', 'homeScore': '1'}, {'@number': '3', 'awayScore': '0', 'homeScore': '0'}, {'@number': '4', 'awayScore': '0', 'homeScore': '3'}, {'@number': '5', 'awayScore': '2', 'homeScore': '1'}, {'@number': '6', 'awayScore': '0', 'homeScore': '0'}, {'@number': '7', 'awayScore': '2', 'homeScore': '0'}, {'@number': '8', 'awayScore': '0', 'homeScore': '2'}, {'@number': '9', 'awayScore': '0', 'homeScore': '0'}]}}, {'game': {'ID': '43752', 'scheduleStatus': 'Normal', 'originalDate': None, 'originalTime': None, 'delayedOrPostponedReason': None, 'date': '2018-04-22', 'time': '3:10PM', 'awayTeam': {'ID': '131', 'City': 'Chicago', 'Name': 'Cubs', 'Abbreviation': 'CHC'}, 'homeTeam': {'ID': '138', 'City': 'Colorado', 'Name': 'Rockies', 'Abbreviation': 'COL'}, 'location': 'Coors Field'}, 'isUnplayed': 'false', 'isInProgress': 'false', 'isCompleted': 'true', 'playStatus': None, 'awayScore': '9', 'homeScore': '7', 'inningSummary': {'inning': [{'@number': '1', 'awayScore': '3', 'homeScore': '0'}, {'@number': '2', 'awayScore': '1', 'homeScore': '0'}, {'@number': '3', 'awayScore': '2', 'homeScore': '2'}, {'@number': '4', 'awayScore': '0', 'homeScore': '0'}, {'@number': '5', 'awayScore': '0', 'homeScore': '2'}, {'@number': '6', 'awayScore': '0', 'homeScore': '0'}, {'@number': '7', 'awayScore': '3', 'homeScore': '3'}, {'@number': '8', 'awayScore': '0', 'homeScore': '0'}, {'@number': '9', 'awayScore': '0', 'homeScore': '0'}]}}, {'game': {'ID': '43753', 'scheduleStatus': 'Normal', 'originalDate': None, 'originalTime': None, 'delayedOrPostponedReason': None, 'date': '2018-04-22', 'time': '4:05PM', 'awayTeam': {'ID': '113', 'City': 'Boston', 'Name': 'Red Sox', 'Abbreviation': 'BOS'}, 'homeTeam': {'ID': '125', 'City': 'Oakland', 'Name': 'Athletics', 'Abbreviation': 'OAK'}, 'location': 'Oakland-Alameda County Coliseum'}, 'isUnplayed': 'false', 'isInProgress': 'false', 'isCompleted': 'true', 'playStatus': None, 'awayScore': '1', 'homeScore': '4', 'inningSummary': {'inning': [{'@number': '1', 'awayScore': '0', 'homeScore': '1'}, {'@number': '2', 'awayScore': '0', 'homeScore': '0'}, {'@number': '3', 'awayScore': '0', 'homeScore': '0'}, {'@number': '4', 'awayScore': '0', 'homeScore': '0'}, {'@number': '5', 'awayScore': '0', 'homeScore': '0'}, {'@number': '6', 'awayScore': '0', 'homeScore': '0'}, {'@number': '7', 'awayScore': '1', 'homeScore': '0'}, {'@number': '8', 'awayScore': '0', 'homeScore': '3'}, {'@number': '9', 'awayScore': '0', 'homeScore': '0'}]}}, {'game': {'ID': '43754', 'scheduleStatus': 'Normal', 'originalDate': None, 'originalTime': None, 'delayedOrPostponedReason': None, 'date': '2018-04-22', 'time': '4:07PM', 'awayTeam': {'ID': '136', 'City': 'San Francisco', 'Name': 'Giants', 'Abbreviation': 'SF'}, 'homeTeam': {'ID': '124', 'City': 'Los Angeles', 'Name': 'Angels', 'Abbreviation': 'LAA'}, 'location': 'Angel Stadium'}, 'isUnplayed': 'false', 'isInProgress': 'false', 'isCompleted': 'true', 'playStatus': None, 'awayScore': '4', 'homeScore': '2', 'inningSummary': {'inning': [{'@number': '1', 'awayScore': '0', 'homeScore': '0'}, {'@number': '2', 'awayScore': '0', 'homeScore': '0'}, {'@number': '3', 'awayScore': '3', 'homeScore': '0'}, {'@number': '4', 'awayScore': '0', 'homeScore': '0'}, {'@number': '5', 'awayScore': '1', 'homeScore': '0'}, {'@number': '6', 'awayScore': '0', 'homeScore': '0'}, {'@number': '7', 'awayScore': '0', 'homeScore': '0'}, {'@number': '8', 'awayScore': '0', 'homeScore': '2'}, {'@number': '9', 'awayScore': '0', 'homeScore': '0'}]}}, {'game': {'ID': '43755', 'scheduleStatus': 'Normal', 'originalDate': None, 'originalTime': None, 'delayedOrPostponedReason': None, 'date': '2018-04-22', 'time': '4:10PM', 'awayTeam': {'ID': '139', 'City': 'San Diego', 'Name': 'Padres', 'Abbreviation': 'SD'}, 'homeTeam': {'ID': '140', 'City': 'Arizona', 'Name': 'Diamondbacks', 'Abbreviation': 'ARI'}, 'location': 'Chase Field'}, 'isUnplayed': 'false', 'isInProgress': 'false', 'isCompleted': 'true', 'playStatus': None, 'awayScore': '2', 'homeScore': '4', 'inningSummary': {'inning': [{'@number': '1', 'awayScore': '0', 'homeScore': '0'}, {'@number': '2', 'awayScore': '0', 'homeScore': '0'}, {'@number': '3', 'awayScore': '0', 'homeScore': '0'}, {'@number': '4', 'awayScore': '0', 'homeScore': '4'}, {'@number': '5', 'awayScore': '0', 'homeScore': '0'}, {'@number': '6', 'awayScore': '2', 'homeScore': '0'}, {'@number': '7', 'awayScore': '0', 'homeScore': '0'}, {'@number': '8', 'awayScore': '0', 'homeScore': '0'}, {'@number': '9', 'awayScore': '0', 'homeScore': '0'}]}}, {'game': {'ID': '43756', 'scheduleStatus': 'Normal', 'originalDate': None, 'originalTime': None, 'delayedOrPostponedReason': None, 'date': '2018-04-22', 'time': '8:05PM', 'awayTeam': {'ID': '126', 'City': 'Washington', 'Name': 'Nationals', 'Abbreviation': 'WAS'}, 'homeTeam': {'ID': '137', 'City': 'Los Angeles', 'Name': 'Dodgers', 'Abbreviation': 'LAD'}, 'location': 'Dodger Stadium'}, 'isUnplayed': 'false', 'isInProgress': 'false', 'isCompleted': 'true', 'playStatus': None, 'awayScore': '3', 'homeScore': '4', 'inningSummary': {'inning': [{'@number': '1', 'awayScore': '0', 'homeScore': '0'}, {'@number': '2', 'awayScore': '1', 'homeScore': '0'}, {'@number': '3', 'awayScore': '0', 'homeScore': '0'}, {'@number': '4', 'awayScore': '1', 'homeScore': '0'}, {'@number': '5', 'awayScore': '0', 'homeScore': '0'}, {'@number': '6', 'awayScore': '1', 'homeScore': '3'}, {'@number': '7', 'awayScore': '0', 'homeScore': '1'}, {'@number': '8', 'awayScore': '0', 'homeScore': '0'}, {'@number': '9', 'awayScore': '0', 'homeScore': '0'}]}}, {'game': {'ID': '43746', 'scheduleStatus': 'Postponed', 'originalDate': '2018-04-22', 'originalTime': '1:35PM', 'delayedOrPostponedReason': 'Rain', 'date': '2018-05-28', 'time': '7:00PM', 'awayTeam': {'ID': '127', 'City': 'New York', 'Name': 'Mets', 'Abbreviation': 'NYM'}, 'homeTeam': {'ID': '130', 'City': 'Atlanta', 'Name': 'Braves', 'Abbreviation': 'ATL'}, 'location': 'SunTrust Park'}, 'isUnplayed': 'false', 'isInProgress': 'false', 'isCompleted': 'true', 'playStatus': None, 'awayScore': '8', 'homeScore': '5', 'inningSummary': {'inning': [{'@number': '1', 'awayScore': '2', 'homeScore': '0'}, {'@number': '2', 'awayScore': '0', 'homeScore': '1'}, {'@number': '3', 'awayScore': '1', 'homeScore': '3'}, {'@number': '4', 'awayScore': '0', 'homeScore': '0'}, {'@number': '5', 'awayScore': '0', 'homeScore': '0'}, {'@number': '6', 'awayScore': '2', 'homeScore': '1'}, {'@number': '7', 'awayScore': '3', 'homeScore': '0'}, {'@number': '8', 'awayScore': '0', 'homeScore': '0'}, {'@number': '9', 'awayScore': '0', 'homeScore': '0'}]}}]\n"
     ]
    }
   ],
   "source": [
    "print(gamescores)"
   ]
  },
  {
   "cell_type": "code",
   "execution_count": null,
   "metadata": {},
   "outputs": [],
   "source": []
  },
  {
   "cell_type": "code",
   "execution_count": 14,
   "metadata": {},
   "outputs": [
    {
     "name": "stdout",
     "output_type": "stream",
     "text": [
      "  @number awayScore homeScore\n",
      "0       1         0         1\n",
      "1       2         0         0\n",
      "2       3         0         0\n",
      "3       4         2         2\n",
      "4       5         2         0\n",
      "5       6         0         0\n",
      "6       7         0         0\n",
      "7       8         0         0\n",
      "8       9         3         0\n"
     ]
    }
   ],
   "source": [
    "def box_score(game):\n",
    "    import pandas ad pd\n",
    "    for inning in  \n",
    "        away_score = game['inningSummary']['inning']['awayScore']\n",
    "        home_score = game['inningSummary']['inning']['homeScore']\n",
    "    "
   ]
  },
  {
   "cell_type": "code",
   "execution_count": null,
   "metadata": {},
   "outputs": [],
   "source": []
  }
 ],
 "metadata": {
  "kernelspec": {
   "display_name": "Python 3",
   "language": "python",
   "name": "python3"
  },
  "language_info": {
   "codemirror_mode": {
    "name": "ipython",
    "version": 3
   },
   "file_extension": ".py",
   "mimetype": "text/x-python",
   "name": "python",
   "nbconvert_exporter": "python",
   "pygments_lexer": "ipython3",
   "version": "3.6.6"
  }
 },
 "nbformat": 4,
 "nbformat_minor": 2
}
