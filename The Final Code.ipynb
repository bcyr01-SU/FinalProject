{
 "cells": [
  {
   "cell_type": "code",
   "execution_count": 1,
   "metadata": {},
   "outputs": [],
   "source": [
    "import pandas as pd\n",
    "import folium\n",
    "import requests\n",
    "import numpy as np\n",
    "import folium.plugins\n",
    "\n",
    "batting = pd.read_csv('Batting.csv')\n",
    "player_info_df = pd.read_csv('People.csv')\n",
    "batting_career = []\n",
    "listofplayers = []\n",
    "list_of_names = []\n",
    "players_already_entered = []\n",
    "i = 0\n",
    "i=i\n",
    "list_of_positions = ['3b','2b','1b','ss','c','lf','cf','rf']\n",
    "appearances = pd.read_csv(\"Appearances.csv\")\n",
    "apperances_career = pd.read_csv(\"career_appearances\")\n",
    "player_id = player_info_df['playerID']\n",
    "states = {\n",
    "        'AK': 'Alaska',\n",
    "        'AL': 'Alabama',\n",
    "        'AR': 'Arkansas',\n",
    "        'AS': 'American Samoa',\n",
    "        'AZ': 'Arizona',\n",
    "        'CA': 'California',\n",
    "        'CO': 'Colorado',\n",
    "        'CT': 'Connecticut',\n",
    "        'DC': 'District of Columbia',\n",
    "        'DE': 'Delaware',\n",
    "        'FL': 'Florida',\n",
    "        'GA': 'Georgia',\n",
    "        'GU': 'Guam',\n",
    "        'HI': 'Hawaii',\n",
    "        'IA': 'Iowa',\n",
    "        'ID': 'Idaho',\n",
    "        'IL': 'Illinois',\n",
    "        'IN': 'Indiana',\n",
    "        'KS': 'Kansas',\n",
    "        'KY': 'Kentucky',\n",
    "        'LA': 'Louisiana',\n",
    "        'MA': 'Massachusetts',\n",
    "        'MD': 'Maryland',\n",
    "        'ME': 'Maine',\n",
    "        'MI': 'Michigan',\n",
    "        'MN': 'Minnesota',\n",
    "        'MO': 'Missouri',\n",
    "        'MP': 'Northern Mariana Islands',\n",
    "        'MS': 'Mississippi',\n",
    "        'MT': 'Montana',\n",
    "        'NA': 'National',\n",
    "        'NC': 'North Carolina',\n",
    "        'ND': 'North Dakota',\n",
    "        'NE': 'Nebraska',\n",
    "        'NH': 'New Hampshire',\n",
    "        'NJ': 'New Jersey',\n",
    "        'NM': 'New Mexico',\n",
    "        'NV': 'Nevada',\n",
    "        'NY': 'New York',\n",
    "        'OH': 'Ohio',\n",
    "        'OK': 'Oklahoma',\n",
    "        'OR': 'Oregon',\n",
    "        'PA': 'Pennsylvania',\n",
    "        'PR': 'Puerto Rico',\n",
    "        'RI': 'Rhode Island',\n",
    "        'SC': 'South Carolina',\n",
    "        'SD': 'South Dakota',\n",
    "        'TN': 'Tennessee',\n",
    "        'TX': 'Texas',\n",
    "        'UT': 'Utah',\n",
    "        'VA': 'Virginia',\n",
    "        'VI': 'Virgin Islands',\n",
    "        'VT': 'Vermont',\n",
    "        'WA': 'Washington',\n",
    "        'WI': 'Wisconsin',\n",
    "        'WV': 'West Virginia',\n",
    "        'WY': 'Wyoming'\n",
    "}\n",
    "batting_career = pd.read_csv('batting_career')\n"
   ]
  },
  {
   "cell_type": "code",
   "execution_count": 2,
   "metadata": {},
   "outputs": [],
   "source": [
    "def player_sort_by_stat(player_list, desired_players, stat, number_of_players,batting_career):\n",
    "    i = 0\n",
    "    best_for_position = []\n",
    "    for player in player_list.to_records():\n",
    "        if player['playerID'] in desired_players and i < number_of_players:\n",
    "            player_stats = {'playerID' : player['playerID'], stat : player[stat]}\n",
    "            best_for_position.append(player_stats)\n",
    "            i += 1\n",
    "        elif i >= number_of_players:\n",
    "            break\n",
    "    return best_for_position"
   ]
  },
  {
   "cell_type": "code",
   "execution_count": 3,
   "metadata": {},
   "outputs": [],
   "source": [
    "def player_search(position):\n",
    "    desired_players = []\n",
    "    position = position.lower()\n",
    "    position_key = \"G_\" + position\n",
    "    for player in apperances_career.to_records():\n",
    "        player_position = max_position(player)\n",
    "        if position_key == player_position:\n",
    "            name = player['playerID']\n",
    "            desired_players.append(name)\n",
    "    return desired_players "
   ]
  },
  {
   "cell_type": "code",
   "execution_count": 4,
   "metadata": {},
   "outputs": [],
   "source": [
    "def max_position(player):\n",
    "    max_position = -1\n",
    "    if int(player['G_p']) > max_position:\n",
    "        max_position = int(player['G_p'])\n",
    "        position = \"G_p\"\n",
    "    if int(player['G_c']) > max_position:\n",
    "        max_position = int(player['G_c'])\n",
    "        position = \"G_c\"\n",
    "    if int(player['G_1b']) > max_position:\n",
    "        max_position = int(player['G_1b'])\n",
    "        position = \"G_1b\"\n",
    "    if int(player['G_2b']) > max_position:\n",
    "        max_position = int(player['G_2b'])\n",
    "        position = \"G_2b\"\n",
    "    if int(player['G_ss']) > max_position:\n",
    "        max_position = int(player['G_ss'])\n",
    "        position = \"G_ss\"\n",
    "    if int(player['G_3b']) > max_position:\n",
    "        max_position = int(player['G_3b'])\n",
    "        position = \"G_3b\"\n",
    "    if int(player['G_lf']) > max_position:\n",
    "        max_position = int(player['G_lf'])\n",
    "        position = \"G_lf\"\n",
    "    if int(player['G_cf']) > max_position:\n",
    "        max_position = int(player['G_cf'])\n",
    "        position = \"G_cf\"\n",
    "    if int(player['G_rf']) > max_position:\n",
    "        max_position = int(player['G_rf'])\n",
    "        position = \"G_rf\"\n",
    "    return position "
   ]
  },
  {
   "cell_type": "code",
   "execution_count": 5,
   "metadata": {},
   "outputs": [],
   "source": [
    "def geocode(birthCity, birthState):\n",
    "    text = (\"%s , %s\"%(birthCity, birthState))\n",
    "    data =  { 'q' : text, 'format' : 'json'}\n",
    "    url='https://nominatim.openstreetmap.org/search' \n",
    "    response = requests.get(url, params=data)\n",
    "    geodata = response.json()\n",
    "    lat = float(geodata[0]['lat'])\n",
    "    lon = float(geodata[0]['lon'])\n",
    "    lat_lon = {'lat': lat , 'lon': lon}\n",
    "    return lat_lon"
   ]
  },
  {
   "cell_type": "code",
   "execution_count": 12,
   "metadata": {},
   "outputs": [],
   "source": [
    "def player_map(listofplayers):\n",
    "    map = folium.Map(location=(39.8283, -98.5795), zoom_start=4.21)\n",
    "    for player in player_info_df.to_records():\n",
    "        if player['playerID'] in listofplayers:\n",
    "            birthCity = player['birthCity']\n",
    "            birthState = player['birthState']\n",
    "            if player['birthCountry'] == \"USA\":\n",
    "                birthState = states[birthState]\n",
    "            try:\n",
    "                first_name = player['nameFirst']\n",
    "                last_name = player['nameLast']\n",
    "                name = first_name + \" \" + last_name\n",
    "                player_lat_lon = geocode(birthCity, birthState)\n",
    "                pos = (player_lat_lon['lat'],player_lat_lon['lon']) \n",
    "                message = \"%s, %s-%s %s, %s \" % (name,player['birthYear'], player['deathYear'],birthCity, birthState)\n",
    "                marker = folium.Marker(location=pos, \n",
    "                        popup=message\n",
    "                              )\n",
    "                map.add_children(marker)\n",
    "            except:\n",
    "                pass\n",
    "    return map"
   ]
  },
  {
   "cell_type": "code",
   "execution_count": 14,
   "metadata": {
    "scrolled": true
   },
   "outputs": [
    {
     "name": "stdout",
     "output_type": "stream",
     "text": [
      "---MLB Stat Leaders by Position---\n",
      "['3b', '2b', '1b', 'ss', 'c', 'lf', 'cf', 'rf']\n",
      "Please input a positon see above or 'quit':  ss\n",
      "Index(['AB', 'AVG', 'G', 'H', 'HR', 'R', 'RBI', 'SB', 'playerID'], dtype='object')\n",
      "Please Input the Stat You Would Like to See 'H, HR, AB':h\n",
      "How Many Players Would You Like To See? 5\n",
      "      H   playerID            Name\n",
      "0  3465  jeterde01     Derek Jeter\n",
      "1  3184  ripkeca01      Cal Ripken\n",
      "2  3142  yountro01     Robin Yount\n",
      "3  3115  rodrial01  Alex Rodriguez\n",
      "4  2877  vizquom01    Omar Vizquel\n"
     ]
    },
    {
     "name": "stderr",
     "output_type": "stream",
     "text": [
      "c:\\users\\bency\\appdata\\local\\programs\\python\\python36\\lib\\site-packages\\ipykernel_launcher.py:19: FutureWarning: Method `add_children` is deprecated. Please use `add_child` instead.\n"
     ]
    },
    {
     "data": {
      "text/html": [
       "<div style=\"width:100%;\"><div style=\"position:relative;width:100%;height:0;padding-bottom:60%;\"><iframe src=\"data:text/html;charset=utf-8;base64,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\" style=\"position:absolute;width:100%;height:100%;left:0;top:0;border:none !important;\" allowfullscreen webkitallowfullscreen mozallowfullscreen></iframe></div></div>"
      ],
      "text/plain": [
       "<folium.folium.Map at 0x2505a3292e8>"
      ]
     },
     "execution_count": 14,
     "metadata": {},
     "output_type": "execute_result"
    }
   ],
   "source": [
    "print(\"---MLB Stat Leaders by Position---\")\n",
    "while True:\n",
    "    print(list_of_positions)\n",
    "    position = input(\"Please input a positon see above or 'quit':  \")\n",
    "    position = position.lower()\n",
    "    if position == 'quit':\n",
    "        print(\"Quitting...\")\n",
    "        break\n",
    "    else:\n",
    "        if position in list_of_positions:\n",
    "            desired_players = player_search(position)\n",
    "        else:\n",
    "            print(\"Please Input a Valid Postition\")\n",
    "            break\n",
    "    print(batting_career.keys())\n",
    "    stat = input(\"Please Input the Stat You Would Like to See 'H, HR, AB':\")\n",
    "    stat = stat.upper()\n",
    "    if stat == 'QUIT':\n",
    "        print(\"Quitting...\")\n",
    "        break\n",
    "    try:\n",
    "        player_list = batting_career.sort_values(by=[stat], ascending=False)\n",
    "    except:\n",
    "        print(\"Please Input a Valid Stat\")\n",
    "        break\n",
    "    number_of_players = input(\"How Many Players Would You Like To See? \")\n",
    "    if number_of_players.lower() == 'quit':\n",
    "        print(\"Quitting...\")\n",
    "        break\n",
    "    try:\n",
    "        number_of_players = int(number_of_players)\n",
    "        best_of_players = player_sort_by_stat(player_list, desired_players, stat, number_of_players, batting_career)\n",
    "    except:\n",
    "        print(\"Please Input an Integer\")\n",
    "        break\n",
    "    best_of_players_df = pd.DataFrame(best_of_players)\n",
    "    for player_id in best_of_players_df['playerID']:\n",
    "        listofplayers.append(player_id)\n",
    "        for player in player_info_df.to_records():\n",
    "            if player['playerID'] == player_id: \n",
    "                name = player['nameFirst'] + ' ' + player['nameLast']\n",
    "                list_of_names.append(name)\n",
    "                break\n",
    "    best_of_players_df['Name'] = list_of_names\n",
    "    list_of_names = []\n",
    "    print(best_of_players_df)\n",
    "    break    \n",
    "player_map(listofplayers)"
   ]
  },
  {
   "cell_type": "code",
   "execution_count": null,
   "metadata": {},
   "outputs": [],
   "source": []
  },
  {
   "cell_type": "code",
   "execution_count": null,
   "metadata": {},
   "outputs": [],
   "source": []
  },
  {
   "cell_type": "code",
   "execution_count": 29,
   "metadata": {},
   "outputs": [
    {
     "data": {
      "text/plain": [
       "0"
      ]
     },
     "execution_count": 29,
     "metadata": {},
     "output_type": "execute_result"
    }
   ],
   "source": [
    "i\n"
   ]
  },
  {
   "cell_type": "code",
   "execution_count": null,
   "metadata": {},
   "outputs": [],
   "source": []
  }
 ],
 "metadata": {
  "kernelspec": {
   "display_name": "Python 3",
   "language": "python",
   "name": "python3"
  },
  "language_info": {
   "codemirror_mode": {
    "name": "ipython",
    "version": 3
   },
   "file_extension": ".py",
   "mimetype": "text/x-python",
   "name": "python",
   "nbconvert_exporter": "python",
   "pygments_lexer": "ipython3",
   "version": "3.6.6"
  }
 },
 "nbformat": 4,
 "nbformat_minor": 2
}
