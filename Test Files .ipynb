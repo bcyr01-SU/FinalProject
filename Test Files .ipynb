{
 "cells": [
  {
   "cell_type": "code",
   "execution_count": 16,
   "metadata": {},
   "outputs": [],
   "source": [
    "import pandas as pd\n",
    "import folium\n",
    "import requests\n",
    "import numpy as np\n",
    "\n",
    "halloffame_data = pd.read_csv('HallOfFame.csv')\n",
    "player_info_df = pd.read_csv('People.csv')\n",
    "player_id = player_info_df['playerID']\n",
    "listofplayers = []\n",
    "\n",
    "def hall_of_fame():\n",
    "    for player in halloffame_data.to_records():\n",
    "        if player['inducted'] == 'Y':\n",
    "            listofplayers.append(player['playerID'])"
   ]
  },
  {
   "cell_type": "code",
   "execution_count": 13,
   "metadata": {},
   "outputs": [],
   "source": [
    "def player_map():\n",
    "    map = folium.Map(location=(39.8283, -98.5795), zoom_start=4.21)\n",
    "    for index,playerid in enumerate(player_id):\n",
    "        if playerid in listofplayers:\n",
    "            birthCity = player_info_df['birthCity'][index]\n",
    "            birthState = player_info_df['birthState'][index]\n",
    "            try:\n",
    "                player_lat_lon = geocode(birthCity, birthState)\n",
    "                pos = (player_lat_lon['lat'],player_lat_lon['lon']) \n",
    "                message = \"%s, %s-%s %s, %s \" % (player_info_df['nameGiven'][index],player_info_df['birthYear'][index], player_info_df['deathYear'][index],birthCity, birthState)\n",
    "                marker = folium.Marker(location=pos, \n",
    "                        popup=message\n",
    "                              )\n",
    "                map.add_children(marker)\n",
    "            except:\n",
    "                pass\n",
    "    return map\n",
    "        \n",
    "    \n",
    "\n",
    "\n",
    "   "
   ]
  },
  {
   "cell_type": "code",
   "execution_count": 14,
   "metadata": {},
   "outputs": [],
   "source": [
    "def geocode(birthCity, birthState):\n",
    "    text = (\"%s , %s\"%(birthCity, birthState))\n",
    "    data =  { 'q' : text, 'format' : 'json'}\n",
    "    url='https://nominatim.openstreetmap.org/search' \n",
    "    response = requests.get(url, params=data)\n",
    "    geodata = response.json()\n",
    "    lat = float(geodata[0]['lat'])\n",
    "    lon = float(geodata[0]['lon'])\n",
    "    lat_lon = {'lat': lat , 'lon': lon}\n",
    "    return lat_lon"
   ]
  },
  {
   "cell_type": "code",
   "execution_count": null,
   "metadata": {},
   "outputs": [
    {
     "name": "stderr",
     "output_type": "stream",
     "text": [
      "c:\\users\\bency\\appdata\\local\\programs\\python\\python36\\lib\\site-packages\\ipykernel_launcher.py:14: FutureWarning: Method `add_children` is deprecated. Please use `add_child` instead.\n",
      "  \n"
     ]
    }
   ],
   "source": [
    "player_map()"
   ]
  },
  {
   "cell_type": "code",
   "execution_count": 20,
   "metadata": {},
   "outputs": [],
   "source": [
    "hall_of_fame()"
   ]
  },
  {
   "cell_type": "code",
   "execution_count": null,
   "metadata": {
    "scrolled": true
   },
   "outputs": [],
   "source": []
  },
  {
   "cell_type": "code",
   "execution_count": null,
   "metadata": {},
   "outputs": [],
   "source": [
    "     "
   ]
  },
  {
   "cell_type": "code",
   "execution_count": null,
   "metadata": {},
   "outputs": [],
   "source": []
  },
  {
   "cell_type": "code",
   "execution_count": null,
   "metadata": {},
   "outputs": [],
   "source": []
  }
 ],
 "metadata": {
  "kernelspec": {
   "display_name": "Python 3",
   "language": "python",
   "name": "python3"
  },
  "language_info": {
   "codemirror_mode": {
    "name": "ipython",
    "version": 3
   },
   "file_extension": ".py",
   "mimetype": "text/x-python",
   "name": "python",
   "nbconvert_exporter": "python",
   "pygments_lexer": "ipython3",
   "version": "3.6.6"
  }
 },
 "nbformat": 4,
 "nbformat_minor": 2
}
