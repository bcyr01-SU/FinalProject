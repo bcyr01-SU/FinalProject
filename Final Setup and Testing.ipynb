{
 "cells": [
  {
   "cell_type": "code",
   "execution_count": 8,
   "metadata": {},
   "outputs": [],
   "source": [
    "import pandas as pd\n",
    "import folium\n",
    "import requests\n",
    "import numpy as np\n",
    "\n",
    "batting = pd.read_csv('Batting.csv')\n",
    "player_info_df = pd.read_csv('People.csv')\n",
    "batting_career = []\n",
    "listofplayers = []\n",
    "list_of_names = []\n",
    "players_already_entered = []\n",
    "list_of_positions = ['3b','2b','1b','ss','c','lf','cf','rf']\n",
    "appearances = pd.read_csv(\"Appearances.csv\")\n",
    "apperances_career = pd.read_csv(\"career_appearances\")\n",
    "player_id = player_info_df['playerID']\n",
    "states = {\n",
    "        'AK': 'Alaska',\n",
    "        'AL': 'Alabama',\n",
    "        'AR': 'Arkansas',\n",
    "        'AS': 'American Samoa',\n",
    "        'AZ': 'Arizona',\n",
    "        'CA': 'California',\n",
    "        'CO': 'Colorado',\n",
    "        'CT': 'Connecticut',\n",
    "        'DC': 'District of Columbia',\n",
    "        'DE': 'Delaware',\n",
    "        'FL': 'Florida',\n",
    "        'GA': 'Georgia',\n",
    "        'GU': 'Guam',\n",
    "        'HI': 'Hawaii',\n",
    "        'IA': 'Iowa',\n",
    "        'ID': 'Idaho',\n",
    "        'IL': 'Illinois',\n",
    "        'IN': 'Indiana',\n",
    "        'KS': 'Kansas',\n",
    "        'KY': 'Kentucky',\n",
    "        'LA': 'Louisiana',\n",
    "        'MA': 'Massachusetts',\n",
    "        'MD': 'Maryland',\n",
    "        'ME': 'Maine',\n",
    "        'MI': 'Michigan',\n",
    "        'MN': 'Minnesota',\n",
    "        'MO': 'Missouri',\n",
    "        'MP': 'Northern Mariana Islands',\n",
    "        'MS': 'Mississippi',\n",
    "        'MT': 'Montana',\n",
    "        'NA': 'National',\n",
    "        'NC': 'North Carolina',\n",
    "        'ND': 'North Dakota',\n",
    "        'NE': 'Nebraska',\n",
    "        'NH': 'New Hampshire',\n",
    "        'NJ': 'New Jersey',\n",
    "        'NM': 'New Mexico',\n",
    "        'NV': 'Nevada',\n",
    "        'NY': 'New York',\n",
    "        'OH': 'Ohio',\n",
    "        'OK': 'Oklahoma',\n",
    "        'OR': 'Oregon',\n",
    "        'PA': 'Pennsylvania',\n",
    "        'PR': 'Puerto Rico',\n",
    "        'RI': 'Rhode Island',\n",
    "        'SC': 'South Carolina',\n",
    "        'SD': 'South Dakota',\n",
    "        'TN': 'Tennessee',\n",
    "        'TX': 'Texas',\n",
    "        'UT': 'Utah',\n",
    "        'VA': 'Virginia',\n",
    "        'VI': 'Virgin Islands',\n",
    "        'VT': 'Vermont',\n",
    "        'WA': 'Washington',\n",
    "        'WI': 'Wisconsin',\n",
    "        'WV': 'West Virginia',\n",
    "        'WY': 'Wyoming'\n",
    "}\n",
    "batting_career = pd.read_csv('batting_career')\n"
   ]
  },
  {
   "cell_type": "code",
   "execution_count": null,
   "metadata": {},
   "outputs": [],
   "source": []
  },
  {
   "cell_type": "code",
   "execution_count": null,
   "metadata": {},
   "outputs": [],
   "source": [
    "def career_batting():\n",
    "    for player_season in batting.to_records():\n",
    "        if player_season['playerID'] in players_already_entered:\n",
    "            for player in batting_career:\n",
    "                if player_season['playerID'] == player['playerID']:\n",
    "                    player['G'] += player_season['G']\n",
    "                    player['AB'] += player_season['AB']\n",
    "                    player['R'] += player_season['R']\n",
    "                    player['H'] += player_season['H']\n",
    "                    player['HR'] += player_season['HR']\n",
    "                    player['RBI'] += player_season['RBI']\n",
    "                    player['SB'] += player_season['SB']\n",
    "                    player['AVG'] = ((player['AVG']+(player_season['H']/player_season['AB']))/2)\n",
    "                    break\n",
    "        else:\n",
    "                batting_career_stats = {\"playerID\" : player_season['playerID'], 'G' : player_season['G'], 'AB' : player_season['AB'], 'R' : player_season['R'], 'H' : player_season['H'] , 'HR' : player_season['HR'], 'RBI' : player_season['RBI'] , 'SB' : player_season['SB'], 'AVG' :  player_season['H']/player_season['AB']}\n",
    "                batting_career.append(batting_career_stats)\n",
    "                players_already_entered.append(player_season['playerID'])\n",
    "    return batting_career"
   ]
  },
  {
   "cell_type": "code",
   "execution_count": null,
   "metadata": {},
   "outputs": [],
   "source": [
    "batting_career = career_batting()"
   ]
  },
  {
   "cell_type": "code",
   "execution_count": null,
   "metadata": {},
   "outputs": [],
   "source": [
    "batting_career = pd.DataFrame(batting_career)"
   ]
  },
  {
   "cell_type": "code",
   "execution_count": null,
   "metadata": {},
   "outputs": [],
   "source": [
    "batting_career.to_csv('batting_career', encoding='utf-8', index=False)"
   ]
  },
  {
   "cell_type": "code",
   "execution_count": null,
   "metadata": {},
   "outputs": [],
   "source": [
    "stat = 'H'\n",
    "player_list = batting_career.sort_values(by=[stat], ascending=False)\n",
    "desired_players = player_search('ss')\n",
    "number_of_players = 10\n",
    "pls = player_sort_by_stat(player_list, desired_players, stat, number_of_players, batting_career)"
   ]
  },
  {
   "cell_type": "code",
   "execution_count": 2,
   "metadata": {},
   "outputs": [],
   "source": [
    "def player_sort_by_stat(player_list, desired_players, stat, number_of_players,batting_career):\n",
    "    i = 0\n",
    "    best_for_position = []\n",
    "    for player in player_list.to_records():\n",
    "        if player['playerID'] in desired_players and i < number_of_players:\n",
    "            player_stats = {'playerID' : player['playerID'], stat : player[stat]}\n",
    "            best_for_position.append(player_stats)\n",
    "            i += 1\n",
    "        elif i >= number_of_players:\n",
    "            break\n",
    "    return best_for_position"
   ]
  },
  {
   "cell_type": "code",
   "execution_count": 3,
   "metadata": {},
   "outputs": [],
   "source": [
    "def player_search(position):\n",
    "    desired_players = []\n",
    "    position = position.lower()\n",
    "    position_key = \"G_\" + position\n",
    "    for player in apperances_career.to_records():\n",
    "        player_position = max_position(player)\n",
    "        if position_key == player_position:\n",
    "            name = player['playerID']\n",
    "            desired_players.append(name)\n",
    "    return desired_players   "
   ]
  },
  {
   "cell_type": "code",
   "execution_count": 4,
   "metadata": {},
   "outputs": [],
   "source": [
    "def max_position(player):\n",
    "    max_position = -1\n",
    "    if int(player['G_p']) > max_position:\n",
    "        max_position = int(player['G_p'])\n",
    "        position = \"G_p\"\n",
    "    if int(player['G_c']) > max_position:\n",
    "        max_position = int(player['G_c'])\n",
    "        position = \"G_c\"\n",
    "    if int(player['G_1b']) > max_position:\n",
    "        max_position = int(player['G_1b'])\n",
    "        position = \"G_1b\"\n",
    "    if int(player['G_2b']) > max_position:\n",
    "        max_position = int(player['G_2b'])\n",
    "        position = \"G_2b\"\n",
    "    if int(player['G_ss']) > max_position:\n",
    "        max_position = int(player['G_ss'])\n",
    "        position = \"G_ss\"\n",
    "    if int(player['G_3b']) > max_position:\n",
    "        max_position = int(player['G_3b'])\n",
    "        position = \"G_3b\"\n",
    "    if int(player['G_lf']) > max_position:\n",
    "        max_position = int(player['G_lf'])\n",
    "        position = \"G_lf\"\n",
    "    if int(player['G_cf']) > max_position:\n",
    "        max_position = int(player['G_cf'])\n",
    "        position = \"G_cf\"\n",
    "    if int(player['G_rf']) > max_position:\n",
    "        max_position = int(player['G_rf'])\n",
    "        position = \"G_rf\"\n",
    "    return position "
   ]
  },
  {
   "cell_type": "code",
   "execution_count": null,
   "metadata": {},
   "outputs": [],
   "source": []
  },
  {
   "cell_type": "code",
   "execution_count": 5,
   "metadata": {},
   "outputs": [],
   "source": [
    "def geocode(birthCity, birthState):\n",
    "    text = (\"%s , %s\"%(birthCity, birthState))\n",
    "    data =  { 'q' : text, 'format' : 'json'}\n",
    "    url='https://nominatim.openstreetmap.org/search' \n",
    "    response = requests.get(url, params=data)\n",
    "    geodata = response.json()\n",
    "    lat = float(geodata[0]['lat'])\n",
    "    lon = float(geodata[0]['lon'])\n",
    "    lat_lon = {'lat': lat , 'lon': lon}\n",
    "    return lat_lon"
   ]
  },
  {
   "cell_type": "code",
   "execution_count": null,
   "metadata": {},
   "outputs": [],
   "source": [
    "def career_apperances():\n",
    "    for player_season in appearances.to_records():\n",
    "        if player_season['playerID'] in players_already_entered:\n",
    "            for player in batting_career:\n",
    "                if player_season['playerID'] == player['playerID']:\n",
    "                    player['G_p'] += player_season['G_p']\n",
    "                    player['G_c'] += player_season['G_c']\n",
    "                    player['G_1b'] += player_season['G_1b']\n",
    "                    player['G_2b'] += player_season['G_2b']\n",
    "                    player['G_3b'] += player_season['G_3b']\n",
    "                    player['G_ss'] += player_season['G_ss']\n",
    "                    player['G_rf'] += player_season['G_rf']\n",
    "                    player['G_cf'] += player_season['G_cf']\n",
    "                    player['G_lf'] += player_season['G_lf']\n",
    "                    break\n",
    "        else:\n",
    "                match_career_stats = {\"playerID\" : player_season['playerID'], 'G_cf' : player_season['G_cf'], 'G_p' : player_season['G_p'], 'G_c' : player_season['G_c'], 'G_1b' : player_season['G_1b'] , 'G_2b' : player_season['G_2b'], 'G_3b' : player_season['G_3b'] , 'G_ss' : player_season['G_ss'],  'G_rf' : player_season['G_rf'],  'G_lf' : player_season['G_lf']}\n",
    "                matches_career.append(match_career_stats)\n",
    "                players_already_entered.append(player_season['playerID'])\n",
    "    return matches_career"
   ]
  },
  {
   "cell_type": "code",
   "execution_count": 6,
   "metadata": {
    "scrolled": true
   },
   "outputs": [],
   "source": []
  },
  {
   "cell_type": "code",
   "execution_count": 21,
   "metadata": {},
   "outputs": [
    {
     "name": "stdout",
     "output_type": "stream",
     "text": [
      "---MLB Stat Leaders by Position---\n",
      "['3b', '2b', '1b', 'ss', 'c', 'lf', 'cf', 'rf']\n",
      "Please input a positon see above or 'quit':  c\n",
      "Index(['AB', 'AVG', 'G', 'H', 'HR', 'R', 'RBI', 'SB', 'playerID'], dtype='object')\n",
      "Please Input the Stat You Would Like to See 'H, HR, AB':hr\n",
      "How Many Players Would You Like To See? 5\n",
      "    HR   playerID          Name\n",
      "0  427  piazzmi01   Mike Piazza\n",
      "1  389  benchjo01  Johnny Bench\n",
      "2  376   fiskca01  Carlton Fisk\n",
      "3  358  berrayo01    Yogi Berra\n",
      "4  324  cartega01   Gary Carter\n"
     ]
    },
    {
     "name": "stderr",
     "output_type": "stream",
     "text": [
      "c:\\users\\bency\\appdata\\local\\programs\\python\\python36\\lib\\site-packages\\ipykernel_launcher.py:20: FutureWarning: Method `add_children` is deprecated. Please use `add_child` instead.\n"
     ]
    },
    {
     "data": {
      "text/html": [
       "<div style=\"width:100%;\"><div style=\"position:relative;width:100%;height:0;padding-bottom:60%;\"><iframe src=\"data:text/html;charset=utf-8;base64,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\" style=\"position:absolute;width:100%;height:100%;left:0;top:0;border:none !important;\" allowfullscreen webkitallowfullscreen mozallowfullscreen></iframe></div></div>"
      ],
      "text/plain": [
       "<folium.folium.Map at 0x216e2b676a0>"
      ]
     },
     "execution_count": 21,
     "metadata": {},
     "output_type": "execute_result"
    }
   ],
   "source": [
    "print(\"---MLB Stat Leaders by Position---\")\n",
    "while True:\n",
    "    print(list_of_positions)\n",
    "    position = input(\"Please input a positon see above or 'quit':  \")\n",
    "    position = position.lower()\n",
    "    if position == 'quit':\n",
    "        print(\"Quitting...\")\n",
    "        break\n",
    "    else:\n",
    "        if position in list_of_positions:\n",
    "            desired_players = player_search(position)\n",
    "        else:\n",
    "            print(\"Please Input a Valid Postition\")\n",
    "            break\n",
    "    print(batting_career.keys())\n",
    "    stat = input(\"Please Input the Stat You Would Like to See 'H, HR, AB':\")\n",
    "    stat = stat.upper()\n",
    "    if stat == 'QUIT':\n",
    "        print(\"Quitting...\")\n",
    "        break\n",
    "    try:\n",
    "        player_list = batting_career.sort_values(by=[stat], ascending=False)\n",
    "    except:\n",
    "        print(\"Please Input a Valid Stat\")\n",
    "        break\n",
    "    number_of_players = input(\"How Many Players Would You Like To See? \")\n",
    "    if number_of_players.lower() == 'quit':\n",
    "        print(\"Quitting...\")\n",
    "        break\n",
    "    try:\n",
    "        number_of_players = int(number_of_players)\n",
    "        best_of_players = player_sort_by_stat(player_list, desired_players, stat, number_of_players, batting_career)\n",
    "    except:\n",
    "        print(\"Please Input an Integer\")\n",
    "        break\n",
    "    best_of_players_df = pd.DataFrame(best_of_players)\n",
    "    for player_id in best_of_players_df['playerID']:\n",
    "        listofplayers.append(player_id)\n",
    "        for player in player_info_df.to_records():\n",
    "            if player['playerID'] == player_id: \n",
    "                name = player['nameFirst'] + ' ' + player['nameLast']\n",
    "                list_of_names.append(name)\n",
    "                break\n",
    "    best_of_players_df['Name'] = list_of_names\n",
    "    list_of_names = []\n",
    "    print(best_of_players_df)\n",
    "    break        \n",
    "player_map(listofplayers)"
   ]
  },
  {
   "cell_type": "code",
   "execution_count": null,
   "metadata": {
    "scrolled": true
   },
   "outputs": [],
   "source": []
  },
  {
   "cell_type": "code",
   "execution_count": 16,
   "metadata": {},
   "outputs": [],
   "source": [
    "def player_map(listofplayers):\n",
    "    map = folium.Map(location=(39.8283, -98.5795), zoom_start=4.21)\n",
    "    for player in player_info_df.to_records():\n",
    "        if player['playerID'] in listofplayers:\n",
    "            birthCity = player['birthCity']\n",
    "            birthState = player['birthState']\n",
    "            if player['birthCountry'] == \"USA\":\n",
    "                birthState = states[birthState]\n",
    "            try:\n",
    "                first_name = player['nameFirst']\n",
    "                last_name = player['nameLast']\n",
    "                name = first_name + \" \" + last_name\n",
    "                player_lat_lon = geocode(birthCity, birthState)\n",
    "                pos = (player_lat_lon['lat'],player_lat_lon['lon']) \n",
    "                message = \"%s, %s-%s %s, %s \" % (name,player['birthYear'], player['deathYear'],birthCity, birthState)\n",
    "                marker = folium.Marker(location=pos, \n",
    "                        popup=message\n",
    "                              )\n",
    "                map.add_children(marker)\n",
    "            except:\n",
    "                pass\n",
    "    return map"
   ]
  },
  {
   "cell_type": "code",
   "execution_count": null,
   "metadata": {},
   "outputs": [],
   "source": []
  },
  {
   "cell_type": "code",
   "execution_count": null,
   "metadata": {},
   "outputs": [],
   "source": []
  },
  {
   "cell_type": "code",
   "execution_count": null,
   "metadata": {},
   "outputs": [],
   "source": []
  },
  {
   "cell_type": "code",
   "execution_count": null,
   "metadata": {},
   "outputs": [],
   "source": []
  }
 ],
 "metadata": {
  "kernelspec": {
   "display_name": "Python 3",
   "language": "python",
   "name": "python3"
  },
  "language_info": {
   "codemirror_mode": {
    "name": "ipython",
    "version": 3
   },
   "file_extension": ".py",
   "mimetype": "text/x-python",
   "name": "python",
   "nbconvert_exporter": "python",
   "pygments_lexer": "ipython3",
   "version": "3.6.6"
  }
 },
 "nbformat": 4,
 "nbformat_minor": 2
}
